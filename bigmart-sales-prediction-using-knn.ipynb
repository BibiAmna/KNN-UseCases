{
 "cells": [
  {
   "cell_type": "code",
   "execution_count": 1,
   "id": "464a486b",
   "metadata": {
    "_cell_guid": "b1076dfc-b9ad-4769-8c92-a6c4dae69d19",
    "_uuid": "8f2839f25d086af736a60e9eeb907d3b93b6e0e5",
    "execution": {
     "iopub.execute_input": "2023-03-19T13:30:27.840972Z",
     "iopub.status.busy": "2023-03-19T13:30:27.840550Z",
     "iopub.status.idle": "2023-03-19T13:30:27.862302Z",
     "shell.execute_reply": "2023-03-19T13:30:27.860895Z"
    },
    "papermill": {
     "duration": 0.044985,
     "end_time": "2023-03-19T13:30:27.865459",
     "exception": false,
     "start_time": "2023-03-19T13:30:27.820474",
     "status": "completed"
    },
    "tags": []
   },
   "outputs": [
    {
     "name": "stdout",
     "output_type": "stream",
     "text": [
      "/kaggle/input/bigmart-sales-data/Train.csv\n",
      "/kaggle/input/bigmart-sales-data/Test.csv\n"
     ]
    }
   ],
   "source": [
    "# This Python 3 environment comes with many helpful analytics libraries installed\n",
    "# It is defined by the kaggle/python Docker image: https://github.com/kaggle/docker-python\n",
    "# For example, here's several helpful packages to load\n",
    "\n",
    "import numpy as np # linear algebra\n",
    "import pandas as pd # data processing, CSV file I/O (e.g. pd.read_csv)\n",
    "\n",
    "# Input data files are available in the read-only \"../input/\" directory\n",
    "# For example, running this (by clicking run or pressing Shift+Enter) will list all files under the input directory\n",
    "\n",
    "import os\n",
    "for dirname, _, filenames in os.walk('/kaggle/input'):\n",
    "    for filename in filenames:\n",
    "        print(os.path.join(dirname, filename))\n",
    "\n",
    "# You can write up to 20GB to the current directory (/kaggle/working/) that gets preserved as output when you create a version using \"Save & Run All\" \n",
    "# You can also write temporary files to /kaggle/temp/, but they won't be saved outside of the current session"
   ]
  },
  {
   "cell_type": "markdown",
   "id": "adb3487a",
   "metadata": {
    "papermill": {
     "duration": 0.015232,
     "end_time": "2023-03-19T13:30:27.898338",
     "exception": false,
     "start_time": "2023-03-19T13:30:27.883106",
     "status": "completed"
    },
    "tags": []
   },
   "source": [
    "Problem Statement:\n",
    "\n",
    "The data scientists have collected data from BigMart, which consists of 14204 records of the products and their respective attributes. We have to predict the sales figures of products sold in 10 different stores located in various cities. "
   ]
  },
  {
   "cell_type": "markdown",
   "id": "d61db754",
   "metadata": {
    "papermill": {
     "duration": 0.016613,
     "end_time": "2023-03-19T13:30:27.930554",
     "exception": false,
     "start_time": "2023-03-19T13:30:27.913941",
     "status": "completed"
    },
    "tags": []
   },
   "source": [
    "Hypothesis:\n",
    "\n",
    "Number of Sales are effected by\n",
    "* Time of week\n",
    "* Time of day\n",
    "* Time of year\n",
    "* Store size and location\n",
    "* Item itself"
   ]
  },
  {
   "cell_type": "code",
   "execution_count": 2,
   "id": "0ac31b3f",
   "metadata": {
    "execution": {
     "iopub.execute_input": "2023-03-19T13:30:27.964492Z",
     "iopub.status.busy": "2023-03-19T13:30:27.963643Z",
     "iopub.status.idle": "2023-03-19T13:30:29.446067Z",
     "shell.execute_reply": "2023-03-19T13:30:29.444622Z"
    },
    "papermill": {
     "duration": 1.503081,
     "end_time": "2023-03-19T13:30:29.449273",
     "exception": false,
     "start_time": "2023-03-19T13:30:27.946192",
     "status": "completed"
    },
    "tags": []
   },
   "outputs": [],
   "source": [
    "#import required libraries\n",
    "import pandas as pd\n",
    "import numpy as np\n",
    "from sklearn.preprocessing import LabelEncoder\n",
    "from sklearn.neighbors import KNeighborsRegressor\n",
    "from sklearn.model_selection import cross_val_score\n",
    "from sklearn.metrics import r2_score, mean_squared_error,mean_absolute_error\n",
    "from sklearn.metrics import accuracy_score,classification_report,confusion_matrix\n",
    "import matplotlib.pyplot as plt\n",
    "from sklearn import model_selection\n",
    "import math"
   ]
  },
  {
   "cell_type": "code",
   "execution_count": 3,
   "id": "23424b64",
   "metadata": {
    "execution": {
     "iopub.execute_input": "2023-03-19T13:30:29.484948Z",
     "iopub.status.busy": "2023-03-19T13:30:29.484505Z",
     "iopub.status.idle": "2023-03-19T13:30:29.562027Z",
     "shell.execute_reply": "2023-03-19T13:30:29.560894Z"
    },
    "papermill": {
     "duration": 0.098299,
     "end_time": "2023-03-19T13:30:29.565077",
     "exception": false,
     "start_time": "2023-03-19T13:30:29.466778",
     "status": "completed"
    },
    "tags": []
   },
   "outputs": [],
   "source": [
    "#load train and test dataset in dataframes\n",
    "trainDf= pd.read_csv(\"/kaggle/input/bigmart-sales-data/Train.csv\")\n",
    "testDf= pd.read_csv(\"/kaggle/input/bigmart-sales-data/Test.csv\")"
   ]
  },
  {
   "cell_type": "code",
   "execution_count": 4,
   "id": "4e15cdad",
   "metadata": {
    "execution": {
     "iopub.execute_input": "2023-03-19T13:30:29.599242Z",
     "iopub.status.busy": "2023-03-19T13:30:29.598510Z",
     "iopub.status.idle": "2023-03-19T13:30:29.604976Z",
     "shell.execute_reply": "2023-03-19T13:30:29.603539Z"
    },
    "papermill": {
     "duration": 0.02614,
     "end_time": "2023-03-19T13:30:29.607585",
     "exception": false,
     "start_time": "2023-03-19T13:30:29.581445",
     "status": "completed"
    },
    "tags": []
   },
   "outputs": [
    {
     "name": "stdout",
     "output_type": "stream",
     "text": [
      "(8523, 12) (5681, 11)\n"
     ]
    }
   ],
   "source": [
    "#Shape of Datasets\n",
    "print(trainDf.shape, testDf.shape)"
   ]
  },
  {
   "cell_type": "code",
   "execution_count": 5,
   "id": "a9d1905d",
   "metadata": {
    "execution": {
     "iopub.execute_input": "2023-03-19T13:30:29.643097Z",
     "iopub.status.busy": "2023-03-19T13:30:29.642591Z",
     "iopub.status.idle": "2023-03-19T13:30:29.650426Z",
     "shell.execute_reply": "2023-03-19T13:30:29.649421Z"
    },
    "papermill": {
     "duration": 0.027495,
     "end_time": "2023-03-19T13:30:29.652672",
     "exception": false,
     "start_time": "2023-03-19T13:30:29.625177",
     "status": "completed"
    },
    "tags": []
   },
   "outputs": [
    {
     "data": {
      "text/plain": [
       "Index(['Item_Identifier', 'Item_Weight', 'Item_Fat_Content', 'Item_Visibility',\n",
       "       'Item_Type', 'Item_MRP', 'Outlet_Identifier',\n",
       "       'Outlet_Establishment_Year', 'Outlet_Size', 'Outlet_Location_Type',\n",
       "       'Outlet_Type', 'Item_Outlet_Sales'],\n",
       "      dtype='object')"
      ]
     },
     "execution_count": 5,
     "metadata": {},
     "output_type": "execute_result"
    }
   ],
   "source": [
    "#View columns of train datsets\n",
    "trainDf.columns"
   ]
  },
  {
   "cell_type": "code",
   "execution_count": 6,
   "id": "3e2ecb38",
   "metadata": {
    "execution": {
     "iopub.execute_input": "2023-03-19T13:30:29.687826Z",
     "iopub.status.busy": "2023-03-19T13:30:29.687358Z",
     "iopub.status.idle": "2023-03-19T13:30:29.695706Z",
     "shell.execute_reply": "2023-03-19T13:30:29.694087Z"
    },
    "papermill": {
     "duration": 0.029267,
     "end_time": "2023-03-19T13:30:29.698414",
     "exception": false,
     "start_time": "2023-03-19T13:30:29.669147",
     "status": "completed"
    },
    "tags": []
   },
   "outputs": [
    {
     "data": {
      "text/plain": [
       "Index(['Item_Identifier', 'Item_Weight', 'Item_Fat_Content', 'Item_Visibility',\n",
       "       'Item_Type', 'Item_MRP', 'Outlet_Identifier',\n",
       "       'Outlet_Establishment_Year', 'Outlet_Size', 'Outlet_Location_Type',\n",
       "       'Outlet_Type'],\n",
       "      dtype='object')"
      ]
     },
     "execution_count": 6,
     "metadata": {},
     "output_type": "execute_result"
    }
   ],
   "source": [
    "#View columns of test datsets\n",
    "testDf.columns"
   ]
  },
  {
   "cell_type": "code",
   "execution_count": 7,
   "id": "02683ab5",
   "metadata": {
    "execution": {
     "iopub.execute_input": "2023-03-19T13:30:29.732683Z",
     "iopub.status.busy": "2023-03-19T13:30:29.732228Z",
     "iopub.status.idle": "2023-03-19T13:30:29.760502Z",
     "shell.execute_reply": "2023-03-19T13:30:29.758854Z"
    },
    "papermill": {
     "duration": 0.049939,
     "end_time": "2023-03-19T13:30:29.764224",
     "exception": false,
     "start_time": "2023-03-19T13:30:29.714285",
     "status": "completed"
    },
    "tags": []
   },
   "outputs": [],
   "source": [
    "#combine train and test data for Exploratory Data Analysis\n",
    "trainDf[\"source\"]= \"train\"\n",
    "testDf[\"source\"]=\"test\"\n",
    "Data= pd.concat([trainDf, testDf], ignore_index= True)"
   ]
  },
  {
   "cell_type": "code",
   "execution_count": 8,
   "id": "d02e0e1c",
   "metadata": {
    "execution": {
     "iopub.execute_input": "2023-03-19T13:30:29.799662Z",
     "iopub.status.busy": "2023-03-19T13:30:29.799245Z",
     "iopub.status.idle": "2023-03-19T13:30:29.806740Z",
     "shell.execute_reply": "2023-03-19T13:30:29.805253Z"
    },
    "papermill": {
     "duration": 0.028483,
     "end_time": "2023-03-19T13:30:29.810071",
     "exception": false,
     "start_time": "2023-03-19T13:30:29.781588",
     "status": "completed"
    },
    "tags": []
   },
   "outputs": [
    {
     "data": {
      "text/plain": [
       "(14204, 13)"
      ]
     },
     "execution_count": 8,
     "metadata": {},
     "output_type": "execute_result"
    }
   ],
   "source": [
    "#View no. or rows and columns in new dataframe\n",
    "Data.shape"
   ]
  },
  {
   "cell_type": "code",
   "execution_count": 9,
   "id": "130b5e34",
   "metadata": {
    "execution": {
     "iopub.execute_input": "2023-03-19T13:30:29.845016Z",
     "iopub.status.busy": "2023-03-19T13:30:29.843705Z",
     "iopub.status.idle": "2023-03-19T13:30:29.852557Z",
     "shell.execute_reply": "2023-03-19T13:30:29.851130Z"
    },
    "papermill": {
     "duration": 0.029102,
     "end_time": "2023-03-19T13:30:29.855360",
     "exception": false,
     "start_time": "2023-03-19T13:30:29.826258",
     "status": "completed"
    },
    "tags": []
   },
   "outputs": [
    {
     "data": {
      "text/plain": [
       "Index(['Item_Identifier', 'Item_Weight', 'Item_Fat_Content', 'Item_Visibility',\n",
       "       'Item_Type', 'Item_MRP', 'Outlet_Identifier',\n",
       "       'Outlet_Establishment_Year', 'Outlet_Size', 'Outlet_Location_Type',\n",
       "       'Outlet_Type', 'Item_Outlet_Sales', 'source'],\n",
       "      dtype='object')"
      ]
     },
     "execution_count": 9,
     "metadata": {},
     "output_type": "execute_result"
    }
   ],
   "source": [
    "#View columns of Dataset\n",
    "Data.columns"
   ]
  },
  {
   "cell_type": "code",
   "execution_count": 10,
   "id": "564cf8d2",
   "metadata": {
    "execution": {
     "iopub.execute_input": "2023-03-19T13:30:29.890563Z",
     "iopub.status.busy": "2023-03-19T13:30:29.889654Z",
     "iopub.status.idle": "2023-03-19T13:30:29.923161Z",
     "shell.execute_reply": "2023-03-19T13:30:29.921713Z"
    },
    "papermill": {
     "duration": 0.054377,
     "end_time": "2023-03-19T13:30:29.925983",
     "exception": false,
     "start_time": "2023-03-19T13:30:29.871606",
     "status": "completed"
    },
    "tags": []
   },
   "outputs": [
    {
     "data": {
      "text/html": [
       "<div>\n",
       "<style scoped>\n",
       "    .dataframe tbody tr th:only-of-type {\n",
       "        vertical-align: middle;\n",
       "    }\n",
       "\n",
       "    .dataframe tbody tr th {\n",
       "        vertical-align: top;\n",
       "    }\n",
       "\n",
       "    .dataframe thead th {\n",
       "        text-align: right;\n",
       "    }\n",
       "</style>\n",
       "<table border=\"1\" class=\"dataframe\">\n",
       "  <thead>\n",
       "    <tr style=\"text-align: right;\">\n",
       "      <th></th>\n",
       "      <th>Item_Identifier</th>\n",
       "      <th>Item_Weight</th>\n",
       "      <th>Item_Fat_Content</th>\n",
       "      <th>Item_Visibility</th>\n",
       "      <th>Item_Type</th>\n",
       "      <th>Item_MRP</th>\n",
       "      <th>Outlet_Identifier</th>\n",
       "      <th>Outlet_Establishment_Year</th>\n",
       "      <th>Outlet_Size</th>\n",
       "      <th>Outlet_Location_Type</th>\n",
       "      <th>Outlet_Type</th>\n",
       "      <th>Item_Outlet_Sales</th>\n",
       "      <th>source</th>\n",
       "    </tr>\n",
       "  </thead>\n",
       "  <tbody>\n",
       "    <tr>\n",
       "      <th>0</th>\n",
       "      <td>FDA15</td>\n",
       "      <td>9.30</td>\n",
       "      <td>Low Fat</td>\n",
       "      <td>0.016047</td>\n",
       "      <td>Dairy</td>\n",
       "      <td>249.8092</td>\n",
       "      <td>OUT049</td>\n",
       "      <td>1999</td>\n",
       "      <td>Medium</td>\n",
       "      <td>Tier 1</td>\n",
       "      <td>Supermarket Type1</td>\n",
       "      <td>3735.1380</td>\n",
       "      <td>train</td>\n",
       "    </tr>\n",
       "    <tr>\n",
       "      <th>1</th>\n",
       "      <td>DRC01</td>\n",
       "      <td>5.92</td>\n",
       "      <td>Regular</td>\n",
       "      <td>0.019278</td>\n",
       "      <td>Soft Drinks</td>\n",
       "      <td>48.2692</td>\n",
       "      <td>OUT018</td>\n",
       "      <td>2009</td>\n",
       "      <td>Medium</td>\n",
       "      <td>Tier 3</td>\n",
       "      <td>Supermarket Type2</td>\n",
       "      <td>443.4228</td>\n",
       "      <td>train</td>\n",
       "    </tr>\n",
       "    <tr>\n",
       "      <th>2</th>\n",
       "      <td>FDN15</td>\n",
       "      <td>17.50</td>\n",
       "      <td>Low Fat</td>\n",
       "      <td>0.016760</td>\n",
       "      <td>Meat</td>\n",
       "      <td>141.6180</td>\n",
       "      <td>OUT049</td>\n",
       "      <td>1999</td>\n",
       "      <td>Medium</td>\n",
       "      <td>Tier 1</td>\n",
       "      <td>Supermarket Type1</td>\n",
       "      <td>2097.2700</td>\n",
       "      <td>train</td>\n",
       "    </tr>\n",
       "    <tr>\n",
       "      <th>3</th>\n",
       "      <td>FDX07</td>\n",
       "      <td>19.20</td>\n",
       "      <td>Regular</td>\n",
       "      <td>0.000000</td>\n",
       "      <td>Fruits and Vegetables</td>\n",
       "      <td>182.0950</td>\n",
       "      <td>OUT010</td>\n",
       "      <td>1998</td>\n",
       "      <td>NaN</td>\n",
       "      <td>Tier 3</td>\n",
       "      <td>Grocery Store</td>\n",
       "      <td>732.3800</td>\n",
       "      <td>train</td>\n",
       "    </tr>\n",
       "    <tr>\n",
       "      <th>4</th>\n",
       "      <td>NCD19</td>\n",
       "      <td>8.93</td>\n",
       "      <td>Low Fat</td>\n",
       "      <td>0.000000</td>\n",
       "      <td>Household</td>\n",
       "      <td>53.8614</td>\n",
       "      <td>OUT013</td>\n",
       "      <td>1987</td>\n",
       "      <td>High</td>\n",
       "      <td>Tier 3</td>\n",
       "      <td>Supermarket Type1</td>\n",
       "      <td>994.7052</td>\n",
       "      <td>train</td>\n",
       "    </tr>\n",
       "  </tbody>\n",
       "</table>\n",
       "</div>"
      ],
      "text/plain": [
       "  Item_Identifier  Item_Weight Item_Fat_Content  Item_Visibility  \\\n",
       "0           FDA15         9.30          Low Fat         0.016047   \n",
       "1           DRC01         5.92          Regular         0.019278   \n",
       "2           FDN15        17.50          Low Fat         0.016760   \n",
       "3           FDX07        19.20          Regular         0.000000   \n",
       "4           NCD19         8.93          Low Fat         0.000000   \n",
       "\n",
       "               Item_Type  Item_MRP Outlet_Identifier  \\\n",
       "0                  Dairy  249.8092            OUT049   \n",
       "1            Soft Drinks   48.2692            OUT018   \n",
       "2                   Meat  141.6180            OUT049   \n",
       "3  Fruits and Vegetables  182.0950            OUT010   \n",
       "4              Household   53.8614            OUT013   \n",
       "\n",
       "   Outlet_Establishment_Year Outlet_Size Outlet_Location_Type  \\\n",
       "0                       1999      Medium               Tier 1   \n",
       "1                       2009      Medium               Tier 3   \n",
       "2                       1999      Medium               Tier 1   \n",
       "3                       1998         NaN               Tier 3   \n",
       "4                       1987        High               Tier 3   \n",
       "\n",
       "         Outlet_Type  Item_Outlet_Sales source  \n",
       "0  Supermarket Type1          3735.1380  train  \n",
       "1  Supermarket Type2           443.4228  train  \n",
       "2  Supermarket Type1          2097.2700  train  \n",
       "3      Grocery Store           732.3800  train  \n",
       "4  Supermarket Type1           994.7052  train  "
      ]
     },
     "execution_count": 10,
     "metadata": {},
     "output_type": "execute_result"
    }
   ],
   "source": [
    "#View top 5 records\n",
    "Data.head(5)"
   ]
  },
  {
   "cell_type": "code",
   "execution_count": 11,
   "id": "c5c1557c",
   "metadata": {
    "execution": {
     "iopub.execute_input": "2023-03-19T13:30:29.961659Z",
     "iopub.status.busy": "2023-03-19T13:30:29.961232Z",
     "iopub.status.idle": "2023-03-19T13:30:30.004948Z",
     "shell.execute_reply": "2023-03-19T13:30:30.002905Z"
    },
    "papermill": {
     "duration": 0.065022,
     "end_time": "2023-03-19T13:30:30.008041",
     "exception": false,
     "start_time": "2023-03-19T13:30:29.943019",
     "status": "completed"
    },
    "tags": []
   },
   "outputs": [
    {
     "data": {
      "text/html": [
       "<div>\n",
       "<style scoped>\n",
       "    .dataframe tbody tr th:only-of-type {\n",
       "        vertical-align: middle;\n",
       "    }\n",
       "\n",
       "    .dataframe tbody tr th {\n",
       "        vertical-align: top;\n",
       "    }\n",
       "\n",
       "    .dataframe thead th {\n",
       "        text-align: right;\n",
       "    }\n",
       "</style>\n",
       "<table border=\"1\" class=\"dataframe\">\n",
       "  <thead>\n",
       "    <tr style=\"text-align: right;\">\n",
       "      <th></th>\n",
       "      <th>Item_Weight</th>\n",
       "      <th>Item_Visibility</th>\n",
       "      <th>Item_MRP</th>\n",
       "      <th>Outlet_Establishment_Year</th>\n",
       "      <th>Item_Outlet_Sales</th>\n",
       "    </tr>\n",
       "  </thead>\n",
       "  <tbody>\n",
       "    <tr>\n",
       "      <th>count</th>\n",
       "      <td>11765.000000</td>\n",
       "      <td>14204.000000</td>\n",
       "      <td>14204.000000</td>\n",
       "      <td>14204.000000</td>\n",
       "      <td>8523.000000</td>\n",
       "    </tr>\n",
       "    <tr>\n",
       "      <th>mean</th>\n",
       "      <td>12.792854</td>\n",
       "      <td>0.065953</td>\n",
       "      <td>141.004977</td>\n",
       "      <td>1997.830681</td>\n",
       "      <td>2181.288914</td>\n",
       "    </tr>\n",
       "    <tr>\n",
       "      <th>std</th>\n",
       "      <td>4.652502</td>\n",
       "      <td>0.051459</td>\n",
       "      <td>62.086938</td>\n",
       "      <td>8.371664</td>\n",
       "      <td>1706.499616</td>\n",
       "    </tr>\n",
       "    <tr>\n",
       "      <th>min</th>\n",
       "      <td>4.555000</td>\n",
       "      <td>0.000000</td>\n",
       "      <td>31.290000</td>\n",
       "      <td>1985.000000</td>\n",
       "      <td>33.290000</td>\n",
       "    </tr>\n",
       "    <tr>\n",
       "      <th>25%</th>\n",
       "      <td>8.710000</td>\n",
       "      <td>0.027036</td>\n",
       "      <td>94.012000</td>\n",
       "      <td>1987.000000</td>\n",
       "      <td>834.247400</td>\n",
       "    </tr>\n",
       "    <tr>\n",
       "      <th>50%</th>\n",
       "      <td>12.600000</td>\n",
       "      <td>0.054021</td>\n",
       "      <td>142.247000</td>\n",
       "      <td>1999.000000</td>\n",
       "      <td>1794.331000</td>\n",
       "    </tr>\n",
       "    <tr>\n",
       "      <th>75%</th>\n",
       "      <td>16.750000</td>\n",
       "      <td>0.094037</td>\n",
       "      <td>185.855600</td>\n",
       "      <td>2004.000000</td>\n",
       "      <td>3101.296400</td>\n",
       "    </tr>\n",
       "    <tr>\n",
       "      <th>max</th>\n",
       "      <td>21.350000</td>\n",
       "      <td>0.328391</td>\n",
       "      <td>266.888400</td>\n",
       "      <td>2009.000000</td>\n",
       "      <td>13086.964800</td>\n",
       "    </tr>\n",
       "  </tbody>\n",
       "</table>\n",
       "</div>"
      ],
      "text/plain": [
       "        Item_Weight  Item_Visibility      Item_MRP  Outlet_Establishment_Year  \\\n",
       "count  11765.000000     14204.000000  14204.000000               14204.000000   \n",
       "mean      12.792854         0.065953    141.004977                1997.830681   \n",
       "std        4.652502         0.051459     62.086938                   8.371664   \n",
       "min        4.555000         0.000000     31.290000                1985.000000   \n",
       "25%        8.710000         0.027036     94.012000                1987.000000   \n",
       "50%       12.600000         0.054021    142.247000                1999.000000   \n",
       "75%       16.750000         0.094037    185.855600                2004.000000   \n",
       "max       21.350000         0.328391    266.888400                2009.000000   \n",
       "\n",
       "       Item_Outlet_Sales  \n",
       "count        8523.000000  \n",
       "mean         2181.288914  \n",
       "std          1706.499616  \n",
       "min            33.290000  \n",
       "25%           834.247400  \n",
       "50%          1794.331000  \n",
       "75%          3101.296400  \n",
       "max         13086.964800  "
      ]
     },
     "execution_count": 11,
     "metadata": {},
     "output_type": "execute_result"
    }
   ],
   "source": [
    "Data.describe()"
   ]
  },
  {
   "cell_type": "code",
   "execution_count": 12,
   "id": "dd6c2b96",
   "metadata": {
    "execution": {
     "iopub.execute_input": "2023-03-19T13:30:30.045520Z",
     "iopub.status.busy": "2023-03-19T13:30:30.045098Z",
     "iopub.status.idle": "2023-03-19T13:30:30.060864Z",
     "shell.execute_reply": "2023-03-19T13:30:30.059846Z"
    },
    "papermill": {
     "duration": 0.038155,
     "end_time": "2023-03-19T13:30:30.063521",
     "exception": false,
     "start_time": "2023-03-19T13:30:30.025366",
     "status": "completed"
    },
    "tags": []
   },
   "outputs": [
    {
     "data": {
      "text/plain": [
       "Item_Identifier                 0\n",
       "Item_Weight                  2439\n",
       "Item_Fat_Content                0\n",
       "Item_Visibility                 0\n",
       "Item_Type                       0\n",
       "Item_MRP                        0\n",
       "Outlet_Identifier               0\n",
       "Outlet_Establishment_Year       0\n",
       "Outlet_Size                  4016\n",
       "Outlet_Location_Type            0\n",
       "Outlet_Type                     0\n",
       "Item_Outlet_Sales            5681\n",
       "source                          0\n",
       "dtype: int64"
      ]
     },
     "execution_count": 12,
     "metadata": {},
     "output_type": "execute_result"
    }
   ],
   "source": [
    "#View Missing Values\n",
    "Data.isnull().sum()"
   ]
  },
  {
   "cell_type": "code",
   "execution_count": 13,
   "id": "97e1179f",
   "metadata": {
    "execution": {
     "iopub.execute_input": "2023-03-19T13:30:30.100592Z",
     "iopub.status.busy": "2023-03-19T13:30:30.099452Z",
     "iopub.status.idle": "2023-03-19T13:30:30.108182Z",
     "shell.execute_reply": "2023-03-19T13:30:30.107150Z"
    },
    "papermill": {
     "duration": 0.030256,
     "end_time": "2023-03-19T13:30:30.110761",
     "exception": false,
     "start_time": "2023-03-19T13:30:30.080505",
     "status": "completed"
    },
    "tags": []
   },
   "outputs": [
    {
     "data": {
      "text/plain": [
       "array(['Low Fat', 'Regular', 'low fat', 'LF', 'reg'], dtype=object)"
      ]
     },
     "execution_count": 13,
     "metadata": {},
     "output_type": "execute_result"
    }
   ],
   "source": [
    "#unique values of Item_Fat_Content\n",
    "Data['Item_Fat_Content'].unique()"
   ]
  },
  {
   "cell_type": "code",
   "execution_count": 14,
   "id": "f8db57e5",
   "metadata": {
    "execution": {
     "iopub.execute_input": "2023-03-19T13:30:30.148670Z",
     "iopub.status.busy": "2023-03-19T13:30:30.147572Z",
     "iopub.status.idle": "2023-03-19T13:30:30.158487Z",
     "shell.execute_reply": "2023-03-19T13:30:30.157524Z"
    },
    "papermill": {
     "duration": 0.03304,
     "end_time": "2023-03-19T13:30:30.161182",
     "exception": false,
     "start_time": "2023-03-19T13:30:30.128142",
     "status": "completed"
    },
    "tags": []
   },
   "outputs": [],
   "source": [
    "#There are only two categories of Item Fat Content: Low Fat and Regular. Replacing alternative spellings \n",
    "Data[\"Item_Fat_Content\"]= Data[\"Item_Fat_Content\"].replace(['low fat','LF'],'Low Fat')\n",
    "Data[\"Item_Fat_Content\"]= Data[\"Item_Fat_Content\"].replace('reg','Regular')"
   ]
  },
  {
   "cell_type": "code",
   "execution_count": 15,
   "id": "b7b0ff5b",
   "metadata": {
    "execution": {
     "iopub.execute_input": "2023-03-19T13:30:30.197494Z",
     "iopub.status.busy": "2023-03-19T13:30:30.197080Z",
     "iopub.status.idle": "2023-03-19T13:30:30.206056Z",
     "shell.execute_reply": "2023-03-19T13:30:30.204695Z"
    },
    "papermill": {
     "duration": 0.030196,
     "end_time": "2023-03-19T13:30:30.208724",
     "exception": false,
     "start_time": "2023-03-19T13:30:30.178528",
     "status": "completed"
    },
    "tags": []
   },
   "outputs": [
    {
     "data": {
      "text/plain": [
       "array(['Medium', nan, 'High', 'Small'], dtype=object)"
      ]
     },
     "execution_count": 15,
     "metadata": {},
     "output_type": "execute_result"
    }
   ],
   "source": [
    "#unique values of Outlet_Identifier\n",
    "Data[\"Outlet_Size\"].unique()"
   ]
  },
  {
   "cell_type": "code",
   "execution_count": 16,
   "id": "c2e620a9",
   "metadata": {
    "execution": {
     "iopub.execute_input": "2023-03-19T13:30:30.245915Z",
     "iopub.status.busy": "2023-03-19T13:30:30.245427Z",
     "iopub.status.idle": "2023-03-19T13:30:30.256267Z",
     "shell.execute_reply": "2023-03-19T13:30:30.253111Z"
    },
    "papermill": {
     "duration": 0.033075,
     "end_time": "2023-03-19T13:30:30.259445",
     "exception": false,
     "start_time": "2023-03-19T13:30:30.226370",
     "status": "completed"
    },
    "tags": []
   },
   "outputs": [
    {
     "data": {
      "text/plain": [
       "array([1999, 2009, 1998, 1987, 1985, 2002, 2007, 1997, 2004])"
      ]
     },
     "execution_count": 16,
     "metadata": {},
     "output_type": "execute_result"
    }
   ],
   "source": [
    "#unique values of Outlet_Establishment_Year Outlet_Size \n",
    "Data[\"Outlet_Establishment_Year\"].unique()"
   ]
  },
  {
   "cell_type": "code",
   "execution_count": 17,
   "id": "4943023e",
   "metadata": {
    "execution": {
     "iopub.execute_input": "2023-03-19T13:30:30.297250Z",
     "iopub.status.busy": "2023-03-19T13:30:30.296774Z",
     "iopub.status.idle": "2023-03-19T13:30:30.303206Z",
     "shell.execute_reply": "2023-03-19T13:30:30.301829Z"
    },
    "papermill": {
     "duration": 0.028608,
     "end_time": "2023-03-19T13:30:30.306087",
     "exception": false,
     "start_time": "2023-03-19T13:30:30.277479",
     "status": "completed"
    },
    "tags": []
   },
   "outputs": [],
   "source": [
    "#Determine Outlet Age \n",
    "Data[\"Outlet_Age\"]= 2023 - Data[\"Outlet_Establishment_Year\"]"
   ]
  },
  {
   "cell_type": "code",
   "execution_count": 18,
   "id": "3bfde667",
   "metadata": {
    "execution": {
     "iopub.execute_input": "2023-03-19T13:30:30.343892Z",
     "iopub.status.busy": "2023-03-19T13:30:30.343395Z",
     "iopub.status.idle": "2023-03-19T13:30:30.353171Z",
     "shell.execute_reply": "2023-03-19T13:30:30.351887Z"
    },
    "papermill": {
     "duration": 0.031217,
     "end_time": "2023-03-19T13:30:30.355609",
     "exception": false,
     "start_time": "2023-03-19T13:30:30.324392",
     "status": "completed"
    },
    "tags": []
   },
   "outputs": [
    {
     "data": {
      "text/plain": [
       "array(['Supermarket Type1', 'Supermarket Type2', 'Grocery Store',\n",
       "       'Supermarket Type3'], dtype=object)"
      ]
     },
     "execution_count": 18,
     "metadata": {},
     "output_type": "execute_result"
    }
   ],
   "source": [
    "#unique values of Outlet_Type\n",
    "Data[\"Outlet_Type\"].unique()"
   ]
  },
  {
   "cell_type": "markdown",
   "id": "391d065b",
   "metadata": {
    "papermill": {
     "duration": 0.01706,
     "end_time": "2023-03-19T13:30:30.390016",
     "exception": false,
     "start_time": "2023-03-19T13:30:30.372956",
     "status": "completed"
    },
    "tags": []
   },
   "source": [
    "**Dealing with Missing Vaues:**\n",
    "\n",
    "There are 2439 missing values in Item Weight column, 4016 missing values in Outlet Size and 5681 missing values in Item Outlet Sales( we will predict them) column.\n",
    "\n",
    "There are also some nan values in Outlet_Size column"
   ]
  },
  {
   "cell_type": "code",
   "execution_count": 19,
   "id": "7cbd66b7",
   "metadata": {
    "execution": {
     "iopub.execute_input": "2023-03-19T13:30:30.427111Z",
     "iopub.status.busy": "2023-03-19T13:30:30.426653Z",
     "iopub.status.idle": "2023-03-19T13:30:30.434708Z",
     "shell.execute_reply": "2023-03-19T13:30:30.433392Z"
    },
    "papermill": {
     "duration": 0.03032,
     "end_time": "2023-03-19T13:30:30.437639",
     "exception": false,
     "start_time": "2023-03-19T13:30:30.407319",
     "status": "completed"
    },
    "tags": []
   },
   "outputs": [],
   "source": [
    "#Filling missing values in Item Weight with average weight\n",
    "Data[\"Item_Weight\"]= Data[\"Item_Weight\"].fillna(Data[\"Item_Weight\"].mean())"
   ]
  },
  {
   "cell_type": "code",
   "execution_count": 20,
   "id": "34896608",
   "metadata": {
    "execution": {
     "iopub.execute_input": "2023-03-19T13:30:30.475526Z",
     "iopub.status.busy": "2023-03-19T13:30:30.475110Z",
     "iopub.status.idle": "2023-03-19T13:30:30.483983Z",
     "shell.execute_reply": "2023-03-19T13:30:30.482484Z"
    },
    "papermill": {
     "duration": 0.031576,
     "end_time": "2023-03-19T13:30:30.486925",
     "exception": false,
     "start_time": "2023-03-19T13:30:30.455349",
     "status": "completed"
    },
    "tags": []
   },
   "outputs": [],
   "source": [
    "#Filling missing values of Outlet Size with mode of outlet Size\n",
    "Data[\"Outlet_Size\"]= Data[\"Outlet_Size\"].fillna(Data[\"Outlet_Size\"].mode()[0])"
   ]
  },
  {
   "cell_type": "code",
   "execution_count": 21,
   "id": "5d132643",
   "metadata": {
    "execution": {
     "iopub.execute_input": "2023-03-19T13:30:30.524942Z",
     "iopub.status.busy": "2023-03-19T13:30:30.524491Z",
     "iopub.status.idle": "2023-03-19T13:30:30.534954Z",
     "shell.execute_reply": "2023-03-19T13:30:30.533886Z"
    },
    "papermill": {
     "duration": 0.033099,
     "end_time": "2023-03-19T13:30:30.537354",
     "exception": false,
     "start_time": "2023-03-19T13:30:30.504255",
     "status": "completed"
    },
    "tags": []
   },
   "outputs": [
    {
     "data": {
      "text/plain": [
       "Medium    8671\n",
       "Small     3980\n",
       "High      1553\n",
       "Name: Outlet_Size, dtype: int64"
      ]
     },
     "execution_count": 21,
     "metadata": {},
     "output_type": "execute_result"
    }
   ],
   "source": [
    "Data[\"Outlet_Size\"].value_counts()"
   ]
  },
  {
   "cell_type": "markdown",
   "id": "a22132ef",
   "metadata": {
    "papermill": {
     "duration": 0.017245,
     "end_time": "2023-03-19T13:30:30.572581",
     "exception": false,
     "start_time": "2023-03-19T13:30:30.555336",
     "status": "completed"
    },
    "tags": []
   },
   "source": [
    "**Visualizing Data**"
   ]
  },
  {
   "cell_type": "code",
   "execution_count": 22,
   "id": "895f706e",
   "metadata": {
    "execution": {
     "iopub.execute_input": "2023-03-19T13:30:30.610833Z",
     "iopub.status.busy": "2023-03-19T13:30:30.610408Z",
     "iopub.status.idle": "2023-03-19T13:30:31.483555Z",
     "shell.execute_reply": "2023-03-19T13:30:31.482271Z"
    },
    "papermill": {
     "duration": 0.896604,
     "end_time": "2023-03-19T13:30:31.486664",
     "exception": false,
     "start_time": "2023-03-19T13:30:30.590060",
     "status": "completed"
    },
    "tags": []
   },
   "outputs": [
    {
     "data": {
      "text/plain": [
       "<Figure size 640x480 with 0 Axes>"
      ]
     },
     "metadata": {},
     "output_type": "display_data"
    },
    {
     "data": {
      "image/png": "[encoded data removed]",
      "text/plain": [
       "<Figure size 640x480 with 1 Axes>"
      ]
     },
     "metadata": {},
     "output_type": "display_data"
    },
    {
     "data": {
      "text/plain": [
       "<Figure size 640x480 with 0 Axes>"
      ]
     },
     "metadata": {},
     "output_type": "display_data"
    },
    {
     "data": {
      "image/png": "[encoded data removed]",
      "text/plain": [
       "<Figure size 640x480 with 1 Axes>"
      ]
     },
     "metadata": {},
     "output_type": "display_data"
    },
    {
     "data": {
      "text/plain": [
       "<Figure size 640x480 with 0 Axes>"
      ]
     },
     "metadata": {},
     "output_type": "display_data"
    },
    {
     "data": {
      "image/png": "[encoded data removed]",
      "text/plain": [
       "<Figure size 640x480 with 1 Axes>"
      ]
     },
     "metadata": {},
     "output_type": "display_data"
    }
   ],
   "source": [
    "#Visualizing Data\n",
    "dCol=['Item_Weight', 'Item_Visibility',\n",
    "      'Outlet_Establishment_Year']\n",
    "for col in dCol:\n",
    "    plt.figure()\n",
    "    Data.hist(col)"
   ]
  },
  {
   "cell_type": "code",
   "execution_count": 23,
   "id": "1eb13725",
   "metadata": {
    "execution": {
     "iopub.execute_input": "2023-03-19T13:30:31.527355Z",
     "iopub.status.busy": "2023-03-19T13:30:31.526491Z",
     "iopub.status.idle": "2023-03-19T13:30:32.127231Z",
     "shell.execute_reply": "2023-03-19T13:30:32.125860Z"
    },
    "papermill": {
     "duration": 0.624826,
     "end_time": "2023-03-19T13:30:32.130421",
     "exception": false,
     "start_time": "2023-03-19T13:30:31.505595",
     "status": "completed"
    },
    "tags": []
   },
   "outputs": [
    {
     "data": {
      "image/png": "[encoded data removed]",
      "text/plain": [
       "<Figure size 640x480 with 1 Axes>"
      ]
     },
     "metadata": {},
     "output_type": "display_data"
    },
    {
     "data": {
      "image/png": "[encoded data removed]",
      "text/plain": [
       "<Figure size 640x480 with 1 Axes>"
      ]
     },
     "metadata": {},
     "output_type": "display_data"
    },
    {
     "data": {
      "image/png": "[encoded data removed]",
      "text/plain": [
       "<Figure size 640x480 with 1 Axes>"
      ]
     },
     "metadata": {},
     "output_type": "display_data"
    }
   ],
   "source": [
    "#Visualizing Data to identify outliers (box plot)\n",
    "dCol=['Item_Weight', 'Item_Visibility',\n",
    "      'Outlet_Establishment_Year']\n",
    "for col in dCol:\n",
    "    plt.figure()\n",
    "    Data.boxplot(col)"
   ]
  },
  {
   "cell_type": "markdown",
   "id": "c3c746cb",
   "metadata": {
    "papermill": {
     "duration": 0.019312,
     "end_time": "2023-03-19T13:30:32.169598",
     "exception": false,
     "start_time": "2023-03-19T13:30:32.150286",
     "status": "completed"
    },
    "tags": []
   },
   "source": [
    "Removing OutLiers\n",
    "\n",
    "There are outliers in Item Visibility Coloumn, lets remove outliers.\n",
    "\n",
    "Outliers= Q1-(1.5 * IQR)< x < Q3+ (1.5 * IQR)\n",
    "\n",
    "Q1= 0.25\n",
    "\n",
    "Q3= 0.75\n",
    "\n",
    "IQR= Q3-Q1"
   ]
  },
  {
   "cell_type": "code",
   "execution_count": 24,
   "id": "f5f21f3b",
   "metadata": {
    "execution": {
     "iopub.execute_input": "2023-03-19T13:30:32.211950Z",
     "iopub.status.busy": "2023-03-19T13:30:32.210480Z",
     "iopub.status.idle": "2023-03-19T13:30:32.220762Z",
     "shell.execute_reply": "2023-03-19T13:30:32.219417Z"
    },
    "papermill": {
     "duration": 0.03456,
     "end_time": "2023-03-19T13:30:32.223880",
     "exception": false,
     "start_time": "2023-03-19T13:30:32.189320",
     "status": "completed"
    },
    "tags": []
   },
   "outputs": [],
   "source": [
    "#calculating values of Q1, Q3, IQR\n",
    "\n",
    "Q1= Data[\"Item_Visibility\"].quantile(0.25)\n",
    "Q3= Data[\"Item_Visibility\"].quantile(0.75)\n",
    "IQR= Q3-Q1\n",
    "lower_bound = Q1 - (1.5 * IQR)\n",
    "upper_bound = Q3 + (1.5 * IQR)"
   ]
  },
  {
   "cell_type": "code",
   "execution_count": 25,
   "id": "94ec591e",
   "metadata": {
    "execution": {
     "iopub.execute_input": "2023-03-19T13:30:32.266171Z",
     "iopub.status.busy": "2023-03-19T13:30:32.264703Z",
     "iopub.status.idle": "2023-03-19T13:30:32.279941Z",
     "shell.execute_reply": "2023-03-19T13:30:32.278822Z"
    },
    "papermill": {
     "duration": 0.0388,
     "end_time": "2023-03-19T13:30:32.282657",
     "exception": false,
     "start_time": "2023-03-19T13:30:32.243857",
     "status": "completed"
    },
    "tags": []
   },
   "outputs": [],
   "source": [
    "#Fitering Data without Outliers and saving it\n",
    "# NData= Data.query(filtered)\n",
    "NData= Data.query('(@Q1 - (1.5 * @IQR) ) <= Item_Visibility <= (@Q3 + (1.5 * @IQR))')"
   ]
  },
  {
   "cell_type": "code",
   "execution_count": 26,
   "id": "7a35a370",
   "metadata": {
    "execution": {
     "iopub.execute_input": "2023-03-19T13:30:32.324640Z",
     "iopub.status.busy": "2023-03-19T13:30:32.323272Z",
     "iopub.status.idle": "2023-03-19T13:30:32.332009Z",
     "shell.execute_reply": "2023-03-19T13:30:32.330578Z"
    },
    "papermill": {
     "duration": 0.032155,
     "end_time": "2023-03-19T13:30:32.334523",
     "exception": false,
     "start_time": "2023-03-19T13:30:32.302368",
     "status": "completed"
    },
    "tags": []
   },
   "outputs": [
    {
     "data": {
      "text/plain": [
       "(13943, 14)"
      ]
     },
     "execution_count": 26,
     "metadata": {},
     "output_type": "execute_result"
    }
   ],
   "source": [
    "#Shape of NewDataset without outliers\n",
    "NData.shape"
   ]
  },
  {
   "cell_type": "code",
   "execution_count": 27,
   "id": "08d96ba7",
   "metadata": {
    "execution": {
     "iopub.execute_input": "2023-03-19T13:30:32.376394Z",
     "iopub.status.busy": "2023-03-19T13:30:32.375963Z",
     "iopub.status.idle": "2023-03-19T13:30:32.383308Z",
     "shell.execute_reply": "2023-03-19T13:30:32.381951Z"
    },
    "papermill": {
     "duration": 0.031171,
     "end_time": "2023-03-19T13:30:32.385848",
     "exception": false,
     "start_time": "2023-03-19T13:30:32.354677",
     "status": "completed"
    },
    "tags": []
   },
   "outputs": [
    {
     "data": {
      "text/plain": [
       "(14204, 14)"
      ]
     },
     "execution_count": 27,
     "metadata": {},
     "output_type": "execute_result"
    }
   ],
   "source": [
    "#Shape of Orignal Dataset without outliers\n",
    "Data.shape"
   ]
  },
  {
   "cell_type": "code",
   "execution_count": 28,
   "id": "46137c4f",
   "metadata": {
    "execution": {
     "iopub.execute_input": "2023-03-19T13:30:32.428810Z",
     "iopub.status.busy": "2023-03-19T13:30:32.428325Z",
     "iopub.status.idle": "2023-03-19T13:30:32.434224Z",
     "shell.execute_reply": "2023-03-19T13:30:32.432737Z"
    },
    "papermill": {
     "duration": 0.03044,
     "end_time": "2023-03-19T13:30:32.436726",
     "exception": false,
     "start_time": "2023-03-19T13:30:32.406286",
     "status": "completed"
    },
    "tags": []
   },
   "outputs": [],
   "source": [
    "Data=NData"
   ]
  },
  {
   "cell_type": "code",
   "execution_count": 29,
   "id": "802a32c2",
   "metadata": {
    "execution": {
     "iopub.execute_input": "2023-03-19T13:30:32.479363Z",
     "iopub.status.busy": "2023-03-19T13:30:32.478862Z",
     "iopub.status.idle": "2023-03-19T13:30:32.499609Z",
     "shell.execute_reply": "2023-03-19T13:30:32.498414Z"
    },
    "papermill": {
     "duration": 0.045089,
     "end_time": "2023-03-19T13:30:32.502656",
     "exception": false,
     "start_time": "2023-03-19T13:30:32.457567",
     "status": "completed"
    },
    "tags": []
   },
   "outputs": [
    {
     "data": {
      "text/html": [
       "<div>\n",
       "<style scoped>\n",
       "    .dataframe tbody tr th:only-of-type {\n",
       "        vertical-align: middle;\n",
       "    }\n",
       "\n",
       "    .dataframe tbody tr th {\n",
       "        vertical-align: top;\n",
       "    }\n",
       "\n",
       "    .dataframe thead th {\n",
       "        text-align: right;\n",
       "    }\n",
       "</style>\n",
       "<table border=\"1\" class=\"dataframe\">\n",
       "  <thead>\n",
       "    <tr style=\"text-align: right;\">\n",
       "      <th></th>\n",
       "      <th>Item_Identifier</th>\n",
       "      <th>Item_Weight</th>\n",
       "      <th>Item_Fat_Content</th>\n",
       "      <th>Item_Visibility</th>\n",
       "      <th>Item_Type</th>\n",
       "      <th>Item_MRP</th>\n",
       "      <th>Outlet_Identifier</th>\n",
       "      <th>Outlet_Establishment_Year</th>\n",
       "      <th>Outlet_Size</th>\n",
       "      <th>Outlet_Location_Type</th>\n",
       "      <th>Outlet_Type</th>\n",
       "      <th>Item_Outlet_Sales</th>\n",
       "      <th>source</th>\n",
       "      <th>Outlet_Age</th>\n",
       "    </tr>\n",
       "  </thead>\n",
       "  <tbody>\n",
       "    <tr>\n",
       "      <th>0</th>\n",
       "      <td>FDA15</td>\n",
       "      <td>9.30</td>\n",
       "      <td>Low Fat</td>\n",
       "      <td>0.016047</td>\n",
       "      <td>Dairy</td>\n",
       "      <td>249.8092</td>\n",
       "      <td>OUT049</td>\n",
       "      <td>1999</td>\n",
       "      <td>Medium</td>\n",
       "      <td>Tier 1</td>\n",
       "      <td>Supermarket Type1</td>\n",
       "      <td>3735.1380</td>\n",
       "      <td>train</td>\n",
       "      <td>24</td>\n",
       "    </tr>\n",
       "    <tr>\n",
       "      <th>1</th>\n",
       "      <td>DRC01</td>\n",
       "      <td>5.92</td>\n",
       "      <td>Regular</td>\n",
       "      <td>0.019278</td>\n",
       "      <td>Soft Drinks</td>\n",
       "      <td>48.2692</td>\n",
       "      <td>OUT018</td>\n",
       "      <td>2009</td>\n",
       "      <td>Medium</td>\n",
       "      <td>Tier 3</td>\n",
       "      <td>Supermarket Type2</td>\n",
       "      <td>443.4228</td>\n",
       "      <td>train</td>\n",
       "      <td>14</td>\n",
       "    </tr>\n",
       "    <tr>\n",
       "      <th>2</th>\n",
       "      <td>FDN15</td>\n",
       "      <td>17.50</td>\n",
       "      <td>Low Fat</td>\n",
       "      <td>0.016760</td>\n",
       "      <td>Meat</td>\n",
       "      <td>141.6180</td>\n",
       "      <td>OUT049</td>\n",
       "      <td>1999</td>\n",
       "      <td>Medium</td>\n",
       "      <td>Tier 1</td>\n",
       "      <td>Supermarket Type1</td>\n",
       "      <td>2097.2700</td>\n",
       "      <td>train</td>\n",
       "      <td>24</td>\n",
       "    </tr>\n",
       "    <tr>\n",
       "      <th>3</th>\n",
       "      <td>FDX07</td>\n",
       "      <td>19.20</td>\n",
       "      <td>Regular</td>\n",
       "      <td>0.000000</td>\n",
       "      <td>Fruits and Vegetables</td>\n",
       "      <td>182.0950</td>\n",
       "      <td>OUT010</td>\n",
       "      <td>1998</td>\n",
       "      <td>Medium</td>\n",
       "      <td>Tier 3</td>\n",
       "      <td>Grocery Store</td>\n",
       "      <td>732.3800</td>\n",
       "      <td>train</td>\n",
       "      <td>25</td>\n",
       "    </tr>\n",
       "    <tr>\n",
       "      <th>4</th>\n",
       "      <td>NCD19</td>\n",
       "      <td>8.93</td>\n",
       "      <td>Low Fat</td>\n",
       "      <td>0.000000</td>\n",
       "      <td>Household</td>\n",
       "      <td>53.8614</td>\n",
       "      <td>OUT013</td>\n",
       "      <td>1987</td>\n",
       "      <td>High</td>\n",
       "      <td>Tier 3</td>\n",
       "      <td>Supermarket Type1</td>\n",
       "      <td>994.7052</td>\n",
       "      <td>train</td>\n",
       "      <td>36</td>\n",
       "    </tr>\n",
       "  </tbody>\n",
       "</table>\n",
       "</div>"
      ],
      "text/plain": [
       "  Item_Identifier  Item_Weight Item_Fat_Content  Item_Visibility  \\\n",
       "0           FDA15         9.30          Low Fat         0.016047   \n",
       "1           DRC01         5.92          Regular         0.019278   \n",
       "2           FDN15        17.50          Low Fat         0.016760   \n",
       "3           FDX07        19.20          Regular         0.000000   \n",
       "4           NCD19         8.93          Low Fat         0.000000   \n",
       "\n",
       "               Item_Type  Item_MRP Outlet_Identifier  \\\n",
       "0                  Dairy  249.8092            OUT049   \n",
       "1            Soft Drinks   48.2692            OUT018   \n",
       "2                   Meat  141.6180            OUT049   \n",
       "3  Fruits and Vegetables  182.0950            OUT010   \n",
       "4              Household   53.8614            OUT013   \n",
       "\n",
       "   Outlet_Establishment_Year Outlet_Size Outlet_Location_Type  \\\n",
       "0                       1999      Medium               Tier 1   \n",
       "1                       2009      Medium               Tier 3   \n",
       "2                       1999      Medium               Tier 1   \n",
       "3                       1998      Medium               Tier 3   \n",
       "4                       1987        High               Tier 3   \n",
       "\n",
       "         Outlet_Type  Item_Outlet_Sales source  Outlet_Age  \n",
       "0  Supermarket Type1          3735.1380  train          24  \n",
       "1  Supermarket Type2           443.4228  train          14  \n",
       "2  Supermarket Type1          2097.2700  train          24  \n",
       "3      Grocery Store           732.3800  train          25  \n",
       "4  Supermarket Type1           994.7052  train          36  "
      ]
     },
     "execution_count": 29,
     "metadata": {},
     "output_type": "execute_result"
    }
   ],
   "source": [
    "Data.head(5)"
   ]
  },
  {
   "cell_type": "markdown",
   "id": "e9d1fe93",
   "metadata": {
    "papermill": {
     "duration": 0.019975,
     "end_time": "2023-03-19T13:30:32.543664",
     "exception": false,
     "start_time": "2023-03-19T13:30:32.523689",
     "status": "completed"
    },
    "tags": []
   },
   "source": [
    "**Feature Engineering**\n",
    "\n",
    "Coding all categorical variables into numerical using label encoder from sklearn preprocessing module\n",
    "\n",
    "* Item Fat Content: Low Fat, Regular\n",
    "\n",
    "* Outlet Size: Small, Medium, High\n",
    "\n",
    "* Outlet Type: Supermarket Type1, Supermarket Type2, Supermarket Type3, Grocery Store\n",
    "\n"
   ]
  },
  {
   "cell_type": "code",
   "execution_count": 30,
   "id": "93933527",
   "metadata": {
    "execution": {
     "iopub.execute_input": "2023-03-19T13:30:32.586556Z",
     "iopub.status.busy": "2023-03-19T13:30:32.586131Z",
     "iopub.status.idle": "2023-03-19T13:30:32.591400Z",
     "shell.execute_reply": "2023-03-19T13:30:32.589976Z"
    },
    "papermill": {
     "duration": 0.030434,
     "end_time": "2023-03-19T13:30:32.593927",
     "exception": false,
     "start_time": "2023-03-19T13:30:32.563493",
     "status": "completed"
    },
    "tags": []
   },
   "outputs": [],
   "source": [
    "#intialize label encoder\n",
    "le= LabelEncoder()"
   ]
  },
  {
   "cell_type": "code",
   "execution_count": 31,
   "id": "f46e10d0",
   "metadata": {
    "execution": {
     "iopub.execute_input": "2023-03-19T13:30:32.639539Z",
     "iopub.status.busy": "2023-03-19T13:30:32.638828Z",
     "iopub.status.idle": "2023-03-19T13:30:32.655166Z",
     "shell.execute_reply": "2023-03-19T13:30:32.653855Z"
    },
    "papermill": {
     "duration": 0.044208,
     "end_time": "2023-03-19T13:30:32.658045",
     "exception": false,
     "start_time": "2023-03-19T13:30:32.613837",
     "status": "completed"
    },
    "tags": []
   },
   "outputs": [],
   "source": [
    "# Transform Item Fat Content, Outlet Size and Outlet Type\n",
    "Data[\"Outlet_Size\"]= le.fit_transform(Data[\"Outlet_Size\"])\n",
    "Data[\"Item_Fat_Content\"]= le.fit_transform(Data[\"Item_Fat_Content\"])"
   ]
  },
  {
   "cell_type": "code",
   "execution_count": 32,
   "id": "c06b707d",
   "metadata": {
    "execution": {
     "iopub.execute_input": "2023-03-19T13:30:32.702164Z",
     "iopub.status.busy": "2023-03-19T13:30:32.701400Z",
     "iopub.status.idle": "2023-03-19T13:30:32.709521Z",
     "shell.execute_reply": "2023-03-19T13:30:32.708673Z"
    },
    "papermill": {
     "duration": 0.032973,
     "end_time": "2023-03-19T13:30:32.711848",
     "exception": false,
     "start_time": "2023-03-19T13:30:32.678875",
     "status": "completed"
    },
    "tags": []
   },
   "outputs": [
    {
     "data": {
      "text/plain": [
       "array(['Supermarket Type1', 'Supermarket Type2', 'Grocery Store',\n",
       "       'Supermarket Type3'], dtype=object)"
      ]
     },
     "execution_count": 32,
     "metadata": {},
     "output_type": "execute_result"
    }
   ],
   "source": [
    "#print unique values of Outlet Type\n",
    "Data[\"Outlet_Type\"].unique()"
   ]
  },
  {
   "cell_type": "code",
   "execution_count": 33,
   "id": "aae053b4",
   "metadata": {
    "execution": {
     "iopub.execute_input": "2023-03-19T13:30:32.755613Z",
     "iopub.status.busy": "2023-03-19T13:30:32.755182Z",
     "iopub.status.idle": "2023-03-19T13:30:32.771354Z",
     "shell.execute_reply": "2023-03-19T13:30:32.770095Z"
    },
    "papermill": {
     "duration": 0.042152,
     "end_time": "2023-03-19T13:30:32.774179",
     "exception": false,
     "start_time": "2023-03-19T13:30:32.732027",
     "status": "completed"
    },
    "tags": []
   },
   "outputs": [
    {
     "data": {
      "text/html": [
       "<div>\n",
       "<style scoped>\n",
       "    .dataframe tbody tr th:only-of-type {\n",
       "        vertical-align: middle;\n",
       "    }\n",
       "\n",
       "    .dataframe tbody tr th {\n",
       "        vertical-align: top;\n",
       "    }\n",
       "\n",
       "    .dataframe thead th {\n",
       "        text-align: right;\n",
       "    }\n",
       "</style>\n",
       "<table border=\"1\" class=\"dataframe\">\n",
       "  <thead>\n",
       "    <tr style=\"text-align: right;\">\n",
       "      <th></th>\n",
       "      <th>Grocery Store</th>\n",
       "      <th>Supermarket Type1</th>\n",
       "      <th>Supermarket Type2</th>\n",
       "      <th>Supermarket Type3</th>\n",
       "    </tr>\n",
       "  </thead>\n",
       "  <tbody>\n",
       "    <tr>\n",
       "      <th>0</th>\n",
       "      <td>0</td>\n",
       "      <td>1</td>\n",
       "      <td>0</td>\n",
       "      <td>0</td>\n",
       "    </tr>\n",
       "    <tr>\n",
       "      <th>1</th>\n",
       "      <td>0</td>\n",
       "      <td>0</td>\n",
       "      <td>1</td>\n",
       "      <td>0</td>\n",
       "    </tr>\n",
       "    <tr>\n",
       "      <th>2</th>\n",
       "      <td>0</td>\n",
       "      <td>1</td>\n",
       "      <td>0</td>\n",
       "      <td>0</td>\n",
       "    </tr>\n",
       "    <tr>\n",
       "      <th>3</th>\n",
       "      <td>1</td>\n",
       "      <td>0</td>\n",
       "      <td>0</td>\n",
       "      <td>0</td>\n",
       "    </tr>\n",
       "    <tr>\n",
       "      <th>4</th>\n",
       "      <td>0</td>\n",
       "      <td>1</td>\n",
       "      <td>0</td>\n",
       "      <td>0</td>\n",
       "    </tr>\n",
       "  </tbody>\n",
       "</table>\n",
       "</div>"
      ],
      "text/plain": [
       "   Grocery Store  Supermarket Type1  Supermarket Type2  Supermarket Type3\n",
       "0              0                  1                  0                  0\n",
       "1              0                  0                  1                  0\n",
       "2              0                  1                  0                  0\n",
       "3              1                  0                  0                  0\n",
       "4              0                  1                  0                  0"
      ]
     },
     "execution_count": 33,
     "metadata": {},
     "output_type": "execute_result"
    }
   ],
   "source": [
    "#create dummy values for Outlet Type\n",
    "dummy = pd.get_dummies(Data[\"Outlet_Type\"])\n",
    "dummy.head(5)"
   ]
  },
  {
   "cell_type": "code",
   "execution_count": 34,
   "id": "ec932e10",
   "metadata": {
    "execution": {
     "iopub.execute_input": "2023-03-19T13:30:32.820777Z",
     "iopub.status.busy": "2023-03-19T13:30:32.820177Z",
     "iopub.status.idle": "2023-03-19T13:30:32.843522Z",
     "shell.execute_reply": "2023-03-19T13:30:32.842063Z"
    },
    "papermill": {
     "duration": 0.049791,
     "end_time": "2023-03-19T13:30:32.846392",
     "exception": false,
     "start_time": "2023-03-19T13:30:32.796601",
     "status": "completed"
    },
    "tags": []
   },
   "outputs": [
    {
     "data": {
      "text/html": [
       "<div>\n",
       "<style scoped>\n",
       "    .dataframe tbody tr th:only-of-type {\n",
       "        vertical-align: middle;\n",
       "    }\n",
       "\n",
       "    .dataframe tbody tr th {\n",
       "        vertical-align: top;\n",
       "    }\n",
       "\n",
       "    .dataframe thead th {\n",
       "        text-align: right;\n",
       "    }\n",
       "</style>\n",
       "<table border=\"1\" class=\"dataframe\">\n",
       "  <thead>\n",
       "    <tr style=\"text-align: right;\">\n",
       "      <th></th>\n",
       "      <th>Item_Identifier</th>\n",
       "      <th>Item_Weight</th>\n",
       "      <th>Item_Fat_Content</th>\n",
       "      <th>Item_Visibility</th>\n",
       "      <th>Item_Type</th>\n",
       "      <th>Item_MRP</th>\n",
       "      <th>Outlet_Identifier</th>\n",
       "      <th>Outlet_Establishment_Year</th>\n",
       "      <th>Outlet_Size</th>\n",
       "      <th>Outlet_Location_Type</th>\n",
       "      <th>Outlet_Type</th>\n",
       "      <th>Item_Outlet_Sales</th>\n",
       "      <th>source</th>\n",
       "      <th>Outlet_Age</th>\n",
       "    </tr>\n",
       "  </thead>\n",
       "  <tbody>\n",
       "    <tr>\n",
       "      <th>0</th>\n",
       "      <td>FDA15</td>\n",
       "      <td>9.30</td>\n",
       "      <td>0</td>\n",
       "      <td>0.016047</td>\n",
       "      <td>Dairy</td>\n",
       "      <td>249.8092</td>\n",
       "      <td>OUT049</td>\n",
       "      <td>1999</td>\n",
       "      <td>1</td>\n",
       "      <td>Tier 1</td>\n",
       "      <td>Supermarket Type1</td>\n",
       "      <td>3735.1380</td>\n",
       "      <td>train</td>\n",
       "      <td>24</td>\n",
       "    </tr>\n",
       "    <tr>\n",
       "      <th>1</th>\n",
       "      <td>DRC01</td>\n",
       "      <td>5.92</td>\n",
       "      <td>1</td>\n",
       "      <td>0.019278</td>\n",
       "      <td>Soft Drinks</td>\n",
       "      <td>48.2692</td>\n",
       "      <td>OUT018</td>\n",
       "      <td>2009</td>\n",
       "      <td>1</td>\n",
       "      <td>Tier 3</td>\n",
       "      <td>Supermarket Type2</td>\n",
       "      <td>443.4228</td>\n",
       "      <td>train</td>\n",
       "      <td>14</td>\n",
       "    </tr>\n",
       "    <tr>\n",
       "      <th>2</th>\n",
       "      <td>FDN15</td>\n",
       "      <td>17.50</td>\n",
       "      <td>0</td>\n",
       "      <td>0.016760</td>\n",
       "      <td>Meat</td>\n",
       "      <td>141.6180</td>\n",
       "      <td>OUT049</td>\n",
       "      <td>1999</td>\n",
       "      <td>1</td>\n",
       "      <td>Tier 1</td>\n",
       "      <td>Supermarket Type1</td>\n",
       "      <td>2097.2700</td>\n",
       "      <td>train</td>\n",
       "      <td>24</td>\n",
       "    </tr>\n",
       "    <tr>\n",
       "      <th>3</th>\n",
       "      <td>FDX07</td>\n",
       "      <td>19.20</td>\n",
       "      <td>1</td>\n",
       "      <td>0.000000</td>\n",
       "      <td>Fruits and Vegetables</td>\n",
       "      <td>182.0950</td>\n",
       "      <td>OUT010</td>\n",
       "      <td>1998</td>\n",
       "      <td>1</td>\n",
       "      <td>Tier 3</td>\n",
       "      <td>Grocery Store</td>\n",
       "      <td>732.3800</td>\n",
       "      <td>train</td>\n",
       "      <td>25</td>\n",
       "    </tr>\n",
       "    <tr>\n",
       "      <th>4</th>\n",
       "      <td>NCD19</td>\n",
       "      <td>8.93</td>\n",
       "      <td>0</td>\n",
       "      <td>0.000000</td>\n",
       "      <td>Household</td>\n",
       "      <td>53.8614</td>\n",
       "      <td>OUT013</td>\n",
       "      <td>1987</td>\n",
       "      <td>0</td>\n",
       "      <td>Tier 3</td>\n",
       "      <td>Supermarket Type1</td>\n",
       "      <td>994.7052</td>\n",
       "      <td>train</td>\n",
       "      <td>36</td>\n",
       "    </tr>\n",
       "  </tbody>\n",
       "</table>\n",
       "</div>"
      ],
      "text/plain": [
       "  Item_Identifier  Item_Weight  Item_Fat_Content  Item_Visibility  \\\n",
       "0           FDA15         9.30                 0         0.016047   \n",
       "1           DRC01         5.92                 1         0.019278   \n",
       "2           FDN15        17.50                 0         0.016760   \n",
       "3           FDX07        19.20                 1         0.000000   \n",
       "4           NCD19         8.93                 0         0.000000   \n",
       "\n",
       "               Item_Type  Item_MRP Outlet_Identifier  \\\n",
       "0                  Dairy  249.8092            OUT049   \n",
       "1            Soft Drinks   48.2692            OUT018   \n",
       "2                   Meat  141.6180            OUT049   \n",
       "3  Fruits and Vegetables  182.0950            OUT010   \n",
       "4              Household   53.8614            OUT013   \n",
       "\n",
       "   Outlet_Establishment_Year  Outlet_Size Outlet_Location_Type  \\\n",
       "0                       1999            1               Tier 1   \n",
       "1                       2009            1               Tier 3   \n",
       "2                       1999            1               Tier 1   \n",
       "3                       1998            1               Tier 3   \n",
       "4                       1987            0               Tier 3   \n",
       "\n",
       "         Outlet_Type  Item_Outlet_Sales source  Outlet_Age  \n",
       "0  Supermarket Type1          3735.1380  train          24  \n",
       "1  Supermarket Type2           443.4228  train          14  \n",
       "2  Supermarket Type1          2097.2700  train          24  \n",
       "3      Grocery Store           732.3800  train          25  \n",
       "4  Supermarket Type1           994.7052  train          36  "
      ]
     },
     "execution_count": 34,
     "metadata": {},
     "output_type": "execute_result"
    }
   ],
   "source": [
    "Data.head(5)"
   ]
  },
  {
   "cell_type": "code",
   "execution_count": 35,
   "id": "b3dc1f7e",
   "metadata": {
    "execution": {
     "iopub.execute_input": "2023-03-19T13:30:32.894933Z",
     "iopub.status.busy": "2023-03-19T13:30:32.894494Z",
     "iopub.status.idle": "2023-03-19T13:30:32.903333Z",
     "shell.execute_reply": "2023-03-19T13:30:32.902257Z"
    },
    "papermill": {
     "duration": 0.036825,
     "end_time": "2023-03-19T13:30:32.905928",
     "exception": false,
     "start_time": "2023-03-19T13:30:32.869103",
     "status": "completed"
    },
    "tags": []
   },
   "outputs": [
    {
     "data": {
      "text/plain": [
       "array(['Dairy', 'Soft Drinks', 'Meat', 'Fruits and Vegetables',\n",
       "       'Household', 'Baking Goods', 'Snack Foods', 'Frozen Foods',\n",
       "       'Breakfast', 'Health and Hygiene', 'Hard Drinks', 'Canned',\n",
       "       'Breads', 'Starchy Foods', 'Others', 'Seafood'], dtype=object)"
      ]
     },
     "execution_count": 35,
     "metadata": {},
     "output_type": "execute_result"
    }
   ],
   "source": [
    "Data[\"Item_Type\"].unique()"
   ]
  },
  {
   "cell_type": "code",
   "execution_count": 36,
   "id": "38677c20",
   "metadata": {
    "execution": {
     "iopub.execute_input": "2023-03-19T13:30:32.951032Z",
     "iopub.status.busy": "2023-03-19T13:30:32.950614Z",
     "iopub.status.idle": "2023-03-19T13:30:32.963077Z",
     "shell.execute_reply": "2023-03-19T13:30:32.961589Z"
    },
    "papermill": {
     "duration": 0.038857,
     "end_time": "2023-03-19T13:30:32.965813",
     "exception": false,
     "start_time": "2023-03-19T13:30:32.926956",
     "status": "completed"
    },
    "tags": []
   },
   "outputs": [
    {
     "data": {
      "text/plain": [
       "FDE33    10\n",
       "FDM12    10\n",
       "FDY47    10\n",
       "FDT03    10\n",
       "FDO01    10\n",
       "         ..\n",
       "FDA10     7\n",
       "FDO33     7\n",
       "FDZ60     7\n",
       "NCW54     7\n",
       "FDG21     7\n",
       "Name: Item_Identifier, Length: 1559, dtype: int64"
      ]
     },
     "execution_count": 36,
     "metadata": {},
     "output_type": "execute_result"
    }
   ],
   "source": [
    "Data[\"Item_Identifier\"].value_counts()"
   ]
  },
  {
   "cell_type": "code",
   "execution_count": 37,
   "id": "447b6cc2",
   "metadata": {
    "execution": {
     "iopub.execute_input": "2023-03-19T13:30:33.012569Z",
     "iopub.status.busy": "2023-03-19T13:30:33.012124Z",
     "iopub.status.idle": "2023-03-19T13:30:33.031499Z",
     "shell.execute_reply": "2023-03-19T13:30:33.029857Z"
    },
    "papermill": {
     "duration": 0.04663,
     "end_time": "2023-03-19T13:30:33.034219",
     "exception": false,
     "start_time": "2023-03-19T13:30:32.987589",
     "status": "completed"
    },
    "tags": []
   },
   "outputs": [],
   "source": [
    "#Multiples Categories of Items are present we can combine them throuh mapping\n",
    "Data[\"Item_Type_Category\"]= Data[\"Item_Identifier\"].apply(lambda i: i [0:2])\n",
    "Data[\"Item_Type_Category\"]= Data[\"Item_Type_Category\"].map({\"FD\": \"Food\", \"DR\": \"Drink\", \"NC\":\"Non-Consumable\"})"
   ]
  },
  {
   "cell_type": "code",
   "execution_count": 38,
   "id": "8dccdee1",
   "metadata": {
    "execution": {
     "iopub.execute_input": "2023-03-19T13:30:33.080928Z",
     "iopub.status.busy": "2023-03-19T13:30:33.080446Z",
     "iopub.status.idle": "2023-03-19T13:30:33.091692Z",
     "shell.execute_reply": "2023-03-19T13:30:33.090061Z"
    },
    "papermill": {
     "duration": 0.038937,
     "end_time": "2023-03-19T13:30:33.094907",
     "exception": false,
     "start_time": "2023-03-19T13:30:33.055970",
     "status": "completed"
    },
    "tags": []
   },
   "outputs": [
    {
     "data": {
      "text/plain": [
       "Food              9991\n",
       "Non-Consumable    2652\n",
       "Drink             1300\n",
       "Name: Item_Type_Category, dtype: int64"
      ]
     },
     "execution_count": 38,
     "metadata": {},
     "output_type": "execute_result"
    }
   ],
   "source": [
    "Data[\"Item_Type_Category\"].value_counts()"
   ]
  },
  {
   "cell_type": "code",
   "execution_count": 39,
   "id": "06924a5a",
   "metadata": {
    "execution": {
     "iopub.execute_input": "2023-03-19T13:30:33.140971Z",
     "iopub.status.busy": "2023-03-19T13:30:33.140507Z",
     "iopub.status.idle": "2023-03-19T13:30:33.160480Z",
     "shell.execute_reply": "2023-03-19T13:30:33.159047Z"
    },
    "papermill": {
     "duration": 0.045847,
     "end_time": "2023-03-19T13:30:33.163111",
     "exception": false,
     "start_time": "2023-03-19T13:30:33.117264",
     "status": "completed"
    },
    "tags": []
   },
   "outputs": [
    {
     "data": {
      "text/html": [
       "<div>\n",
       "<style scoped>\n",
       "    .dataframe tbody tr th:only-of-type {\n",
       "        vertical-align: middle;\n",
       "    }\n",
       "\n",
       "    .dataframe tbody tr th {\n",
       "        vertical-align: top;\n",
       "    }\n",
       "\n",
       "    .dataframe thead th {\n",
       "        text-align: right;\n",
       "    }\n",
       "</style>\n",
       "<table border=\"1\" class=\"dataframe\">\n",
       "  <thead>\n",
       "    <tr style=\"text-align: right;\">\n",
       "      <th></th>\n",
       "      <th>Item_Identifier</th>\n",
       "      <th>Item_Weight</th>\n",
       "      <th>Item_Fat_Content</th>\n",
       "      <th>Item_Visibility</th>\n",
       "      <th>Item_Type</th>\n",
       "      <th>Item_MRP</th>\n",
       "      <th>Outlet_Identifier</th>\n",
       "      <th>Outlet_Establishment_Year</th>\n",
       "      <th>Outlet_Size</th>\n",
       "      <th>Outlet_Location_Type</th>\n",
       "      <th>Outlet_Type</th>\n",
       "      <th>Item_Outlet_Sales</th>\n",
       "      <th>source</th>\n",
       "      <th>Outlet_Age</th>\n",
       "      <th>Item_Type_Category</th>\n",
       "    </tr>\n",
       "  </thead>\n",
       "  <tbody>\n",
       "    <tr>\n",
       "      <th>0</th>\n",
       "      <td>FDA15</td>\n",
       "      <td>9.30</td>\n",
       "      <td>0</td>\n",
       "      <td>0.016047</td>\n",
       "      <td>Dairy</td>\n",
       "      <td>249.8092</td>\n",
       "      <td>OUT049</td>\n",
       "      <td>1999</td>\n",
       "      <td>1</td>\n",
       "      <td>Tier 1</td>\n",
       "      <td>Supermarket Type1</td>\n",
       "      <td>3735.1380</td>\n",
       "      <td>train</td>\n",
       "      <td>24</td>\n",
       "      <td>Food</td>\n",
       "    </tr>\n",
       "    <tr>\n",
       "      <th>1</th>\n",
       "      <td>DRC01</td>\n",
       "      <td>5.92</td>\n",
       "      <td>1</td>\n",
       "      <td>0.019278</td>\n",
       "      <td>Soft Drinks</td>\n",
       "      <td>48.2692</td>\n",
       "      <td>OUT018</td>\n",
       "      <td>2009</td>\n",
       "      <td>1</td>\n",
       "      <td>Tier 3</td>\n",
       "      <td>Supermarket Type2</td>\n",
       "      <td>443.4228</td>\n",
       "      <td>train</td>\n",
       "      <td>14</td>\n",
       "      <td>Drink</td>\n",
       "    </tr>\n",
       "  </tbody>\n",
       "</table>\n",
       "</div>"
      ],
      "text/plain": [
       "  Item_Identifier  Item_Weight  Item_Fat_Content  Item_Visibility  \\\n",
       "0           FDA15         9.30                 0         0.016047   \n",
       "1           DRC01         5.92                 1         0.019278   \n",
       "\n",
       "     Item_Type  Item_MRP Outlet_Identifier  Outlet_Establishment_Year  \\\n",
       "0        Dairy  249.8092            OUT049                       1999   \n",
       "1  Soft Drinks   48.2692            OUT018                       2009   \n",
       "\n",
       "   Outlet_Size Outlet_Location_Type        Outlet_Type  Item_Outlet_Sales  \\\n",
       "0            1               Tier 1  Supermarket Type1          3735.1380   \n",
       "1            1               Tier 3  Supermarket Type2           443.4228   \n",
       "\n",
       "  source  Outlet_Age Item_Type_Category  \n",
       "0  train          24               Food  \n",
       "1  train          14              Drink  "
      ]
     },
     "execution_count": 39,
     "metadata": {},
     "output_type": "execute_result"
    }
   ],
   "source": [
    "Data.head(2)"
   ]
  },
  {
   "cell_type": "code",
   "execution_count": 40,
   "id": "eec49e39",
   "metadata": {
    "execution": {
     "iopub.execute_input": "2023-03-19T13:30:33.207085Z",
     "iopub.status.busy": "2023-03-19T13:30:33.206657Z",
     "iopub.status.idle": "2023-03-19T13:30:33.217570Z",
     "shell.execute_reply": "2023-03-19T13:30:33.215801Z"
    },
    "papermill": {
     "duration": 0.03638,
     "end_time": "2023-03-19T13:30:33.220639",
     "exception": false,
     "start_time": "2023-03-19T13:30:33.184259",
     "status": "completed"
    },
    "tags": []
   },
   "outputs": [],
   "source": [
    "#coding categorical values of Item Type Category into numerical values by label encoder\n",
    "Data[\"Item_Type_Category\"]= le.fit_transform(Data[\"Item_Type_Category\"])"
   ]
  },
  {
   "cell_type": "code",
   "execution_count": 41,
   "id": "1f52bf61",
   "metadata": {
    "execution": {
     "iopub.execute_input": "2023-03-19T13:30:33.266946Z",
     "iopub.status.busy": "2023-03-19T13:30:33.266461Z",
     "iopub.status.idle": "2023-03-19T13:30:33.275601Z",
     "shell.execute_reply": "2023-03-19T13:30:33.274013Z"
    },
    "papermill": {
     "duration": 0.034847,
     "end_time": "2023-03-19T13:30:33.278435",
     "exception": false,
     "start_time": "2023-03-19T13:30:33.243588",
     "status": "completed"
    },
    "tags": []
   },
   "outputs": [
    {
     "data": {
      "text/plain": [
       "Index(['Item_Identifier', 'Item_Weight', 'Item_Fat_Content', 'Item_Visibility',\n",
       "       'Item_Type', 'Item_MRP', 'Outlet_Identifier',\n",
       "       'Outlet_Establishment_Year', 'Outlet_Size', 'Outlet_Location_Type',\n",
       "       'Outlet_Type', 'Item_Outlet_Sales', 'source', 'Outlet_Age',\n",
       "       'Item_Type_Category'],\n",
       "      dtype='object')"
      ]
     },
     "execution_count": 41,
     "metadata": {},
     "output_type": "execute_result"
    }
   ],
   "source": [
    "Data.columns"
   ]
  },
  {
   "cell_type": "code",
   "execution_count": 42,
   "id": "5d220bb5",
   "metadata": {
    "execution": {
     "iopub.execute_input": "2023-03-19T13:30:33.324738Z",
     "iopub.status.busy": "2023-03-19T13:30:33.324303Z",
     "iopub.status.idle": "2023-03-19T13:30:33.345975Z",
     "shell.execute_reply": "2023-03-19T13:30:33.344977Z"
    },
    "papermill": {
     "duration": 0.048639,
     "end_time": "2023-03-19T13:30:33.348668",
     "exception": false,
     "start_time": "2023-03-19T13:30:33.300029",
     "status": "completed"
    },
    "tags": []
   },
   "outputs": [],
   "source": [
    "#Performing one hot encoding for columns \n",
    "Data=pd.get_dummies(Data, columns=['Item_Fat_Content','Outlet_Size','Outlet_Location_Type', 'Outlet_Type','Item_Type_Category'])\n"
   ]
  },
  {
   "cell_type": "code",
   "execution_count": 43,
   "id": "fdc9409f",
   "metadata": {
    "execution": {
     "iopub.execute_input": "2023-03-19T13:30:33.393985Z",
     "iopub.status.busy": "2023-03-19T13:30:33.393531Z",
     "iopub.status.idle": "2023-03-19T13:30:33.419256Z",
     "shell.execute_reply": "2023-03-19T13:30:33.417856Z"
    },
    "papermill": {
     "duration": 0.051362,
     "end_time": "2023-03-19T13:30:33.422049",
     "exception": false,
     "start_time": "2023-03-19T13:30:33.370687",
     "status": "completed"
    },
    "tags": []
   },
   "outputs": [
    {
     "data": {
      "text/html": [
       "<div>\n",
       "<style scoped>\n",
       "    .dataframe tbody tr th:only-of-type {\n",
       "        vertical-align: middle;\n",
       "    }\n",
       "\n",
       "    .dataframe tbody tr th {\n",
       "        vertical-align: top;\n",
       "    }\n",
       "\n",
       "    .dataframe thead th {\n",
       "        text-align: right;\n",
       "    }\n",
       "</style>\n",
       "<table border=\"1\" class=\"dataframe\">\n",
       "  <thead>\n",
       "    <tr style=\"text-align: right;\">\n",
       "      <th></th>\n",
       "      <th>Item_Identifier</th>\n",
       "      <th>Item_Weight</th>\n",
       "      <th>Item_Visibility</th>\n",
       "      <th>Item_Type</th>\n",
       "      <th>Item_MRP</th>\n",
       "      <th>Outlet_Identifier</th>\n",
       "      <th>Outlet_Establishment_Year</th>\n",
       "      <th>Item_Outlet_Sales</th>\n",
       "      <th>source</th>\n",
       "      <th>Outlet_Age</th>\n",
       "      <th>...</th>\n",
       "      <th>Outlet_Location_Type_Tier 1</th>\n",
       "      <th>Outlet_Location_Type_Tier 2</th>\n",
       "      <th>Outlet_Location_Type_Tier 3</th>\n",
       "      <th>Outlet_Type_Grocery Store</th>\n",
       "      <th>Outlet_Type_Supermarket Type1</th>\n",
       "      <th>Outlet_Type_Supermarket Type2</th>\n",
       "      <th>Outlet_Type_Supermarket Type3</th>\n",
       "      <th>Item_Type_Category_0</th>\n",
       "      <th>Item_Type_Category_1</th>\n",
       "      <th>Item_Type_Category_2</th>\n",
       "    </tr>\n",
       "  </thead>\n",
       "  <tbody>\n",
       "    <tr>\n",
       "      <th>0</th>\n",
       "      <td>FDA15</td>\n",
       "      <td>9.30</td>\n",
       "      <td>0.016047</td>\n",
       "      <td>Dairy</td>\n",
       "      <td>249.8092</td>\n",
       "      <td>OUT049</td>\n",
       "      <td>1999</td>\n",
       "      <td>3735.1380</td>\n",
       "      <td>train</td>\n",
       "      <td>24</td>\n",
       "      <td>...</td>\n",
       "      <td>1</td>\n",
       "      <td>0</td>\n",
       "      <td>0</td>\n",
       "      <td>0</td>\n",
       "      <td>1</td>\n",
       "      <td>0</td>\n",
       "      <td>0</td>\n",
       "      <td>0</td>\n",
       "      <td>1</td>\n",
       "      <td>0</td>\n",
       "    </tr>\n",
       "    <tr>\n",
       "      <th>1</th>\n",
       "      <td>DRC01</td>\n",
       "      <td>5.92</td>\n",
       "      <td>0.019278</td>\n",
       "      <td>Soft Drinks</td>\n",
       "      <td>48.2692</td>\n",
       "      <td>OUT018</td>\n",
       "      <td>2009</td>\n",
       "      <td>443.4228</td>\n",
       "      <td>train</td>\n",
       "      <td>14</td>\n",
       "      <td>...</td>\n",
       "      <td>0</td>\n",
       "      <td>0</td>\n",
       "      <td>1</td>\n",
       "      <td>0</td>\n",
       "      <td>0</td>\n",
       "      <td>1</td>\n",
       "      <td>0</td>\n",
       "      <td>1</td>\n",
       "      <td>0</td>\n",
       "      <td>0</td>\n",
       "    </tr>\n",
       "  </tbody>\n",
       "</table>\n",
       "<p>2 rows × 25 columns</p>\n",
       "</div>"
      ],
      "text/plain": [
       "  Item_Identifier  Item_Weight  Item_Visibility    Item_Type  Item_MRP  \\\n",
       "0           FDA15         9.30         0.016047        Dairy  249.8092   \n",
       "1           DRC01         5.92         0.019278  Soft Drinks   48.2692   \n",
       "\n",
       "  Outlet_Identifier  Outlet_Establishment_Year  Item_Outlet_Sales source  \\\n",
       "0            OUT049                       1999          3735.1380  train   \n",
       "1            OUT018                       2009           443.4228  train   \n",
       "\n",
       "   Outlet_Age  ...  Outlet_Location_Type_Tier 1  Outlet_Location_Type_Tier 2  \\\n",
       "0          24  ...                            1                            0   \n",
       "1          14  ...                            0                            0   \n",
       "\n",
       "   Outlet_Location_Type_Tier 3  Outlet_Type_Grocery Store  \\\n",
       "0                            0                          0   \n",
       "1                            1                          0   \n",
       "\n",
       "   Outlet_Type_Supermarket Type1  Outlet_Type_Supermarket Type2  \\\n",
       "0                              1                              0   \n",
       "1                              0                              1   \n",
       "\n",
       "   Outlet_Type_Supermarket Type3  Item_Type_Category_0  Item_Type_Category_1  \\\n",
       "0                              0                     0                     1   \n",
       "1                              0                     1                     0   \n",
       "\n",
       "   Item_Type_Category_2  \n",
       "0                     0  \n",
       "1                     0  \n",
       "\n",
       "[2 rows x 25 columns]"
      ]
     },
     "execution_count": 43,
     "metadata": {},
     "output_type": "execute_result"
    }
   ],
   "source": [
    "Data.head(2)"
   ]
  },
  {
   "cell_type": "code",
   "execution_count": 44,
   "id": "a87d466a",
   "metadata": {
    "execution": {
     "iopub.execute_input": "2023-03-19T13:30:33.468059Z",
     "iopub.status.busy": "2023-03-19T13:30:33.467539Z",
     "iopub.status.idle": "2023-03-19T13:30:33.476318Z",
     "shell.execute_reply": "2023-03-19T13:30:33.474741Z"
    },
    "papermill": {
     "duration": 0.034567,
     "end_time": "2023-03-19T13:30:33.478742",
     "exception": false,
     "start_time": "2023-03-19T13:30:33.444175",
     "status": "completed"
    },
    "tags": []
   },
   "outputs": [
    {
     "data": {
      "text/plain": [
       "(13943, 25)"
      ]
     },
     "execution_count": 44,
     "metadata": {},
     "output_type": "execute_result"
    }
   ],
   "source": [
    "Data.shape"
   ]
  },
  {
   "cell_type": "code",
   "execution_count": 45,
   "id": "42056304",
   "metadata": {
    "execution": {
     "iopub.execute_input": "2023-03-19T13:30:33.524334Z",
     "iopub.status.busy": "2023-03-19T13:30:33.523880Z",
     "iopub.status.idle": "2023-03-19T13:30:33.534760Z",
     "shell.execute_reply": "2023-03-19T13:30:33.533457Z"
    },
    "papermill": {
     "duration": 0.036672,
     "end_time": "2023-03-19T13:30:33.537312",
     "exception": false,
     "start_time": "2023-03-19T13:30:33.500640",
     "status": "completed"
    },
    "tags": []
   },
   "outputs": [
    {
     "data": {
      "text/plain": [
       "Item_Identifier                   object\n",
       "Item_Weight                      float64\n",
       "Item_Visibility                  float64\n",
       "Item_Type                         object\n",
       "Item_MRP                         float64\n",
       "Outlet_Identifier                 object\n",
       "Outlet_Establishment_Year          int64\n",
       "Item_Outlet_Sales                float64\n",
       "source                            object\n",
       "Outlet_Age                         int64\n",
       "Item_Fat_Content_0                 uint8\n",
       "Item_Fat_Content_1                 uint8\n",
       "Outlet_Size_0                      uint8\n",
       "Outlet_Size_1                      uint8\n",
       "Outlet_Size_2                      uint8\n",
       "Outlet_Location_Type_Tier 1        uint8\n",
       "Outlet_Location_Type_Tier 2        uint8\n",
       "Outlet_Location_Type_Tier 3        uint8\n",
       "Outlet_Type_Grocery Store          uint8\n",
       "Outlet_Type_Supermarket Type1      uint8\n",
       "Outlet_Type_Supermarket Type2      uint8\n",
       "Outlet_Type_Supermarket Type3      uint8\n",
       "Item_Type_Category_0               uint8\n",
       "Item_Type_Category_1               uint8\n",
       "Item_Type_Category_2               uint8\n",
       "dtype: object"
      ]
     },
     "execution_count": 45,
     "metadata": {},
     "output_type": "execute_result"
    }
   ],
   "source": [
    "Data.dtypes"
   ]
  },
  {
   "cell_type": "code",
   "execution_count": 46,
   "id": "0f5b4d30",
   "metadata": {
    "execution": {
     "iopub.execute_input": "2023-03-19T13:30:33.584856Z",
     "iopub.status.busy": "2023-03-19T13:30:33.584208Z",
     "iopub.status.idle": "2023-03-19T13:30:33.596862Z",
     "shell.execute_reply": "2023-03-19T13:30:33.595067Z"
    },
    "papermill": {
     "duration": 0.039948,
     "end_time": "2023-03-19T13:30:33.599876",
     "exception": false,
     "start_time": "2023-03-19T13:30:33.559928",
     "status": "completed"
    },
    "tags": []
   },
   "outputs": [],
   "source": [
    "#Droping columns whose data type is converted to numerical\n",
    "Data.drop([\"Item_Type\",\"Outlet_Establishment_Year\"],axis=1,inplace= True)"
   ]
  },
  {
   "cell_type": "code",
   "execution_count": 47,
   "id": "791f0f54",
   "metadata": {
    "execution": {
     "iopub.execute_input": "2023-03-19T13:30:33.647303Z",
     "iopub.status.busy": "2023-03-19T13:30:33.646868Z",
     "iopub.status.idle": "2023-03-19T13:30:33.659114Z",
     "shell.execute_reply": "2023-03-19T13:30:33.657892Z"
    },
    "papermill": {
     "duration": 0.039538,
     "end_time": "2023-03-19T13:30:33.661968",
     "exception": false,
     "start_time": "2023-03-19T13:30:33.622430",
     "status": "completed"
    },
    "tags": []
   },
   "outputs": [],
   "source": [
    "#Dividing dataset into training and testing dataset\n",
    "Train= Data.loc[Data[\"source\"]==\"train\"]\n",
    "Test= Data.loc[Data[\"source\"]==\"test\"]"
   ]
  },
  {
   "cell_type": "code",
   "execution_count": 48,
   "id": "a72f71ab",
   "metadata": {
    "execution": {
     "iopub.execute_input": "2023-03-19T13:30:33.710469Z",
     "iopub.status.busy": "2023-03-19T13:30:33.710079Z",
     "iopub.status.idle": "2023-03-19T13:30:33.734387Z",
     "shell.execute_reply": "2023-03-19T13:30:33.733392Z"
    },
    "papermill": {
     "duration": 0.051941,
     "end_time": "2023-03-19T13:30:33.737262",
     "exception": false,
     "start_time": "2023-03-19T13:30:33.685321",
     "status": "completed"
    },
    "tags": []
   },
   "outputs": [
    {
     "data": {
      "text/html": [
       "<div>\n",
       "<style scoped>\n",
       "    .dataframe tbody tr th:only-of-type {\n",
       "        vertical-align: middle;\n",
       "    }\n",
       "\n",
       "    .dataframe tbody tr th {\n",
       "        vertical-align: top;\n",
       "    }\n",
       "\n",
       "    .dataframe thead th {\n",
       "        text-align: right;\n",
       "    }\n",
       "</style>\n",
       "<table border=\"1\" class=\"dataframe\">\n",
       "  <thead>\n",
       "    <tr style=\"text-align: right;\">\n",
       "      <th></th>\n",
       "      <th>Item_Identifier</th>\n",
       "      <th>Item_Weight</th>\n",
       "      <th>Item_Visibility</th>\n",
       "      <th>Item_MRP</th>\n",
       "      <th>Outlet_Identifier</th>\n",
       "      <th>Item_Outlet_Sales</th>\n",
       "      <th>source</th>\n",
       "      <th>Outlet_Age</th>\n",
       "      <th>Item_Fat_Content_0</th>\n",
       "      <th>Item_Fat_Content_1</th>\n",
       "      <th>...</th>\n",
       "      <th>Outlet_Location_Type_Tier 1</th>\n",
       "      <th>Outlet_Location_Type_Tier 2</th>\n",
       "      <th>Outlet_Location_Type_Tier 3</th>\n",
       "      <th>Outlet_Type_Grocery Store</th>\n",
       "      <th>Outlet_Type_Supermarket Type1</th>\n",
       "      <th>Outlet_Type_Supermarket Type2</th>\n",
       "      <th>Outlet_Type_Supermarket Type3</th>\n",
       "      <th>Item_Type_Category_0</th>\n",
       "      <th>Item_Type_Category_1</th>\n",
       "      <th>Item_Type_Category_2</th>\n",
       "    </tr>\n",
       "  </thead>\n",
       "  <tbody>\n",
       "    <tr>\n",
       "      <th>8523</th>\n",
       "      <td>FDW58</td>\n",
       "      <td>20.75</td>\n",
       "      <td>0.007565</td>\n",
       "      <td>107.8622</td>\n",
       "      <td>OUT049</td>\n",
       "      <td>NaN</td>\n",
       "      <td>test</td>\n",
       "      <td>24</td>\n",
       "      <td>1</td>\n",
       "      <td>0</td>\n",
       "      <td>...</td>\n",
       "      <td>1</td>\n",
       "      <td>0</td>\n",
       "      <td>0</td>\n",
       "      <td>0</td>\n",
       "      <td>1</td>\n",
       "      <td>0</td>\n",
       "      <td>0</td>\n",
       "      <td>0</td>\n",
       "      <td>1</td>\n",
       "      <td>0</td>\n",
       "    </tr>\n",
       "    <tr>\n",
       "      <th>8524</th>\n",
       "      <td>FDW14</td>\n",
       "      <td>8.30</td>\n",
       "      <td>0.038428</td>\n",
       "      <td>87.3198</td>\n",
       "      <td>OUT017</td>\n",
       "      <td>NaN</td>\n",
       "      <td>test</td>\n",
       "      <td>16</td>\n",
       "      <td>0</td>\n",
       "      <td>1</td>\n",
       "      <td>...</td>\n",
       "      <td>0</td>\n",
       "      <td>1</td>\n",
       "      <td>0</td>\n",
       "      <td>0</td>\n",
       "      <td>1</td>\n",
       "      <td>0</td>\n",
       "      <td>0</td>\n",
       "      <td>0</td>\n",
       "      <td>1</td>\n",
       "      <td>0</td>\n",
       "    </tr>\n",
       "  </tbody>\n",
       "</table>\n",
       "<p>2 rows × 23 columns</p>\n",
       "</div>"
      ],
      "text/plain": [
       "     Item_Identifier  Item_Weight  Item_Visibility  Item_MRP  \\\n",
       "8523           FDW58        20.75         0.007565  107.8622   \n",
       "8524           FDW14         8.30         0.038428   87.3198   \n",
       "\n",
       "     Outlet_Identifier  Item_Outlet_Sales source  Outlet_Age  \\\n",
       "8523            OUT049                NaN   test          24   \n",
       "8524            OUT017                NaN   test          16   \n",
       "\n",
       "      Item_Fat_Content_0  Item_Fat_Content_1  ...  \\\n",
       "8523                   1                   0  ...   \n",
       "8524                   0                   1  ...   \n",
       "\n",
       "      Outlet_Location_Type_Tier 1  Outlet_Location_Type_Tier 2  \\\n",
       "8523                            1                            0   \n",
       "8524                            0                            1   \n",
       "\n",
       "      Outlet_Location_Type_Tier 3  Outlet_Type_Grocery Store  \\\n",
       "8523                            0                          0   \n",
       "8524                            0                          0   \n",
       "\n",
       "      Outlet_Type_Supermarket Type1  Outlet_Type_Supermarket Type2  \\\n",
       "8523                              1                              0   \n",
       "8524                              1                              0   \n",
       "\n",
       "      Outlet_Type_Supermarket Type3  Item_Type_Category_0  \\\n",
       "8523                              0                     0   \n",
       "8524                              0                     0   \n",
       "\n",
       "      Item_Type_Category_1  Item_Type_Category_2  \n",
       "8523                     1                     0  \n",
       "8524                     1                     0  \n",
       "\n",
       "[2 rows x 23 columns]"
      ]
     },
     "execution_count": 48,
     "metadata": {},
     "output_type": "execute_result"
    }
   ],
   "source": [
    "Test.head(2)"
   ]
  },
  {
   "cell_type": "code",
   "execution_count": 49,
   "id": "987799f2",
   "metadata": {
    "execution": {
     "iopub.execute_input": "2023-03-19T13:30:33.785177Z",
     "iopub.status.busy": "2023-03-19T13:30:33.784697Z",
     "iopub.status.idle": "2023-03-19T13:30:33.895171Z",
     "shell.execute_reply": "2023-03-19T13:30:33.893807Z"
    },
    "papermill": {
     "duration": 0.138038,
     "end_time": "2023-03-19T13:30:33.898144",
     "exception": false,
     "start_time": "2023-03-19T13:30:33.760106",
     "status": "completed"
    },
    "tags": []
   },
   "outputs": [],
   "source": [
    "#Export modified test and train data\n",
    "Train.to_csv(\"TrainData.csv\", index=False)\n",
    "Test.to_csv(\"TestData.csv\", index=False)"
   ]
  },
  {
   "cell_type": "code",
   "execution_count": 50,
   "id": "3fc623d9",
   "metadata": {
    "execution": {
     "iopub.execute_input": "2023-03-19T13:30:33.946294Z",
     "iopub.status.busy": "2023-03-19T13:30:33.945829Z",
     "iopub.status.idle": "2023-03-19T13:30:33.992685Z",
     "shell.execute_reply": "2023-03-19T13:30:33.991406Z"
    },
    "papermill": {
     "duration": 0.074706,
     "end_time": "2023-03-19T13:30:33.995651",
     "exception": false,
     "start_time": "2023-03-19T13:30:33.920945",
     "status": "completed"
    },
    "tags": []
   },
   "outputs": [],
   "source": [
    "train=pd.read_csv(\"TrainData.csv\")\n",
    "test=pd.read_csv(\"TestData.csv\")"
   ]
  },
  {
   "cell_type": "code",
   "execution_count": 51,
   "id": "652624e8",
   "metadata": {
    "execution": {
     "iopub.execute_input": "2023-03-19T13:30:34.042971Z",
     "iopub.status.busy": "2023-03-19T13:30:34.042527Z",
     "iopub.status.idle": "2023-03-19T13:30:34.065164Z",
     "shell.execute_reply": "2023-03-19T13:30:34.064208Z"
    },
    "papermill": {
     "duration": 0.049437,
     "end_time": "2023-03-19T13:30:34.067721",
     "exception": false,
     "start_time": "2023-03-19T13:30:34.018284",
     "status": "completed"
    },
    "tags": []
   },
   "outputs": [
    {
     "data": {
      "text/html": [
       "<div>\n",
       "<style scoped>\n",
       "    .dataframe tbody tr th:only-of-type {\n",
       "        vertical-align: middle;\n",
       "    }\n",
       "\n",
       "    .dataframe tbody tr th {\n",
       "        vertical-align: top;\n",
       "    }\n",
       "\n",
       "    .dataframe thead th {\n",
       "        text-align: right;\n",
       "    }\n",
       "</style>\n",
       "<table border=\"1\" class=\"dataframe\">\n",
       "  <thead>\n",
       "    <tr style=\"text-align: right;\">\n",
       "      <th></th>\n",
       "      <th>Item_Identifier</th>\n",
       "      <th>Item_Weight</th>\n",
       "      <th>Item_Visibility</th>\n",
       "      <th>Item_MRP</th>\n",
       "      <th>Outlet_Identifier</th>\n",
       "      <th>Item_Outlet_Sales</th>\n",
       "      <th>source</th>\n",
       "      <th>Outlet_Age</th>\n",
       "      <th>Item_Fat_Content_0</th>\n",
       "      <th>Item_Fat_Content_1</th>\n",
       "      <th>...</th>\n",
       "      <th>Outlet_Location_Type_Tier 1</th>\n",
       "      <th>Outlet_Location_Type_Tier 2</th>\n",
       "      <th>Outlet_Location_Type_Tier 3</th>\n",
       "      <th>Outlet_Type_Grocery Store</th>\n",
       "      <th>Outlet_Type_Supermarket Type1</th>\n",
       "      <th>Outlet_Type_Supermarket Type2</th>\n",
       "      <th>Outlet_Type_Supermarket Type3</th>\n",
       "      <th>Item_Type_Category_0</th>\n",
       "      <th>Item_Type_Category_1</th>\n",
       "      <th>Item_Type_Category_2</th>\n",
       "    </tr>\n",
       "  </thead>\n",
       "  <tbody>\n",
       "    <tr>\n",
       "      <th>0</th>\n",
       "      <td>FDA15</td>\n",
       "      <td>9.30</td>\n",
       "      <td>0.016047</td>\n",
       "      <td>249.8092</td>\n",
       "      <td>OUT049</td>\n",
       "      <td>3735.1380</td>\n",
       "      <td>train</td>\n",
       "      <td>24</td>\n",
       "      <td>1</td>\n",
       "      <td>0</td>\n",
       "      <td>...</td>\n",
       "      <td>1</td>\n",
       "      <td>0</td>\n",
       "      <td>0</td>\n",
       "      <td>0</td>\n",
       "      <td>1</td>\n",
       "      <td>0</td>\n",
       "      <td>0</td>\n",
       "      <td>0</td>\n",
       "      <td>1</td>\n",
       "      <td>0</td>\n",
       "    </tr>\n",
       "    <tr>\n",
       "      <th>1</th>\n",
       "      <td>DRC01</td>\n",
       "      <td>5.92</td>\n",
       "      <td>0.019278</td>\n",
       "      <td>48.2692</td>\n",
       "      <td>OUT018</td>\n",
       "      <td>443.4228</td>\n",
       "      <td>train</td>\n",
       "      <td>14</td>\n",
       "      <td>0</td>\n",
       "      <td>1</td>\n",
       "      <td>...</td>\n",
       "      <td>0</td>\n",
       "      <td>0</td>\n",
       "      <td>1</td>\n",
       "      <td>0</td>\n",
       "      <td>0</td>\n",
       "      <td>1</td>\n",
       "      <td>0</td>\n",
       "      <td>1</td>\n",
       "      <td>0</td>\n",
       "      <td>0</td>\n",
       "    </tr>\n",
       "  </tbody>\n",
       "</table>\n",
       "<p>2 rows × 23 columns</p>\n",
       "</div>"
      ],
      "text/plain": [
       "  Item_Identifier  Item_Weight  Item_Visibility  Item_MRP Outlet_Identifier  \\\n",
       "0           FDA15         9.30         0.016047  249.8092            OUT049   \n",
       "1           DRC01         5.92         0.019278   48.2692            OUT018   \n",
       "\n",
       "   Item_Outlet_Sales source  Outlet_Age  Item_Fat_Content_0  \\\n",
       "0          3735.1380  train          24                   1   \n",
       "1           443.4228  train          14                   0   \n",
       "\n",
       "   Item_Fat_Content_1  ...  Outlet_Location_Type_Tier 1  \\\n",
       "0                   0  ...                            1   \n",
       "1                   1  ...                            0   \n",
       "\n",
       "   Outlet_Location_Type_Tier 2  Outlet_Location_Type_Tier 3  \\\n",
       "0                            0                            0   \n",
       "1                            0                            1   \n",
       "\n",
       "   Outlet_Type_Grocery Store  Outlet_Type_Supermarket Type1  \\\n",
       "0                          0                              1   \n",
       "1                          0                              0   \n",
       "\n",
       "   Outlet_Type_Supermarket Type2  Outlet_Type_Supermarket Type3  \\\n",
       "0                              0                              0   \n",
       "1                              1                              0   \n",
       "\n",
       "   Item_Type_Category_0  Item_Type_Category_1  Item_Type_Category_2  \n",
       "0                     0                     1                     0  \n",
       "1                     1                     0                     0  \n",
       "\n",
       "[2 rows x 23 columns]"
      ]
     },
     "execution_count": 51,
     "metadata": {},
     "output_type": "execute_result"
    }
   ],
   "source": [
    "train.head(2)"
   ]
  },
  {
   "cell_type": "code",
   "execution_count": 52,
   "id": "f7db6136",
   "metadata": {
    "execution": {
     "iopub.execute_input": "2023-03-19T13:30:34.115549Z",
     "iopub.status.busy": "2023-03-19T13:30:34.115095Z",
     "iopub.status.idle": "2023-03-19T13:30:34.126681Z",
     "shell.execute_reply": "2023-03-19T13:30:34.124888Z"
    },
    "papermill": {
     "duration": 0.039041,
     "end_time": "2023-03-19T13:30:34.129568",
     "exception": false,
     "start_time": "2023-03-19T13:30:34.090527",
     "status": "completed"
    },
    "tags": []
   },
   "outputs": [],
   "source": [
    "#Dropping unnecessary columns in train and test datasets\n",
    "x_train=train.drop(['Item_Identifier','Outlet_Identifier','Item_Outlet_Sales','source'], axis=1)\n",
    "y_train=train[\"Item_Outlet_Sales\"]\n",
    "\n",
    "x_test= test.drop(['Item_Identifier','Outlet_Identifier','source'],axis=1)"
   ]
  },
  {
   "cell_type": "code",
   "execution_count": 53,
   "id": "f7ef6727",
   "metadata": {
    "execution": {
     "iopub.execute_input": "2023-03-19T13:30:34.177988Z",
     "iopub.status.busy": "2023-03-19T13:30:34.177518Z",
     "iopub.status.idle": "2023-03-19T13:30:34.196453Z",
     "shell.execute_reply": "2023-03-19T13:30:34.195518Z"
    },
    "papermill": {
     "duration": 0.046188,
     "end_time": "2023-03-19T13:30:34.198950",
     "exception": false,
     "start_time": "2023-03-19T13:30:34.152762",
     "status": "completed"
    },
    "tags": []
   },
   "outputs": [
    {
     "data": {
      "text/html": [
       "<div>\n",
       "<style scoped>\n",
       "    .dataframe tbody tr th:only-of-type {\n",
       "        vertical-align: middle;\n",
       "    }\n",
       "\n",
       "    .dataframe tbody tr th {\n",
       "        vertical-align: top;\n",
       "    }\n",
       "\n",
       "    .dataframe thead th {\n",
       "        text-align: right;\n",
       "    }\n",
       "</style>\n",
       "<table border=\"1\" class=\"dataframe\">\n",
       "  <thead>\n",
       "    <tr style=\"text-align: right;\">\n",
       "      <th></th>\n",
       "      <th>Item_Weight</th>\n",
       "      <th>Item_Visibility</th>\n",
       "      <th>Item_MRP</th>\n",
       "      <th>Outlet_Age</th>\n",
       "      <th>Item_Fat_Content_0</th>\n",
       "      <th>Item_Fat_Content_1</th>\n",
       "      <th>Outlet_Size_0</th>\n",
       "      <th>Outlet_Size_1</th>\n",
       "      <th>Outlet_Size_2</th>\n",
       "      <th>Outlet_Location_Type_Tier 1</th>\n",
       "      <th>Outlet_Location_Type_Tier 2</th>\n",
       "      <th>Outlet_Location_Type_Tier 3</th>\n",
       "      <th>Outlet_Type_Grocery Store</th>\n",
       "      <th>Outlet_Type_Supermarket Type1</th>\n",
       "      <th>Outlet_Type_Supermarket Type2</th>\n",
       "      <th>Outlet_Type_Supermarket Type3</th>\n",
       "      <th>Item_Type_Category_0</th>\n",
       "      <th>Item_Type_Category_1</th>\n",
       "      <th>Item_Type_Category_2</th>\n",
       "    </tr>\n",
       "  </thead>\n",
       "  <tbody>\n",
       "    <tr>\n",
       "      <th>0</th>\n",
       "      <td>9.30</td>\n",
       "      <td>0.016047</td>\n",
       "      <td>249.8092</td>\n",
       "      <td>24</td>\n",
       "      <td>1</td>\n",
       "      <td>0</td>\n",
       "      <td>0</td>\n",
       "      <td>1</td>\n",
       "      <td>0</td>\n",
       "      <td>1</td>\n",
       "      <td>0</td>\n",
       "      <td>0</td>\n",
       "      <td>0</td>\n",
       "      <td>1</td>\n",
       "      <td>0</td>\n",
       "      <td>0</td>\n",
       "      <td>0</td>\n",
       "      <td>1</td>\n",
       "      <td>0</td>\n",
       "    </tr>\n",
       "    <tr>\n",
       "      <th>1</th>\n",
       "      <td>5.92</td>\n",
       "      <td>0.019278</td>\n",
       "      <td>48.2692</td>\n",
       "      <td>14</td>\n",
       "      <td>0</td>\n",
       "      <td>1</td>\n",
       "      <td>0</td>\n",
       "      <td>1</td>\n",
       "      <td>0</td>\n",
       "      <td>0</td>\n",
       "      <td>0</td>\n",
       "      <td>1</td>\n",
       "      <td>0</td>\n",
       "      <td>0</td>\n",
       "      <td>1</td>\n",
       "      <td>0</td>\n",
       "      <td>1</td>\n",
       "      <td>0</td>\n",
       "      <td>0</td>\n",
       "    </tr>\n",
       "    <tr>\n",
       "      <th>2</th>\n",
       "      <td>17.50</td>\n",
       "      <td>0.016760</td>\n",
       "      <td>141.6180</td>\n",
       "      <td>24</td>\n",
       "      <td>1</td>\n",
       "      <td>0</td>\n",
       "      <td>0</td>\n",
       "      <td>1</td>\n",
       "      <td>0</td>\n",
       "      <td>1</td>\n",
       "      <td>0</td>\n",
       "      <td>0</td>\n",
       "      <td>0</td>\n",
       "      <td>1</td>\n",
       "      <td>0</td>\n",
       "      <td>0</td>\n",
       "      <td>0</td>\n",
       "      <td>1</td>\n",
       "      <td>0</td>\n",
       "    </tr>\n",
       "    <tr>\n",
       "      <th>3</th>\n",
       "      <td>19.20</td>\n",
       "      <td>0.000000</td>\n",
       "      <td>182.0950</td>\n",
       "      <td>25</td>\n",
       "      <td>0</td>\n",
       "      <td>1</td>\n",
       "      <td>0</td>\n",
       "      <td>1</td>\n",
       "      <td>0</td>\n",
       "      <td>0</td>\n",
       "      <td>0</td>\n",
       "      <td>1</td>\n",
       "      <td>1</td>\n",
       "      <td>0</td>\n",
       "      <td>0</td>\n",
       "      <td>0</td>\n",
       "      <td>0</td>\n",
       "      <td>1</td>\n",
       "      <td>0</td>\n",
       "    </tr>\n",
       "    <tr>\n",
       "      <th>4</th>\n",
       "      <td>8.93</td>\n",
       "      <td>0.000000</td>\n",
       "      <td>53.8614</td>\n",
       "      <td>36</td>\n",
       "      <td>1</td>\n",
       "      <td>0</td>\n",
       "      <td>1</td>\n",
       "      <td>0</td>\n",
       "      <td>0</td>\n",
       "      <td>0</td>\n",
       "      <td>0</td>\n",
       "      <td>1</td>\n",
       "      <td>0</td>\n",
       "      <td>1</td>\n",
       "      <td>0</td>\n",
       "      <td>0</td>\n",
       "      <td>0</td>\n",
       "      <td>0</td>\n",
       "      <td>1</td>\n",
       "    </tr>\n",
       "  </tbody>\n",
       "</table>\n",
       "</div>"
      ],
      "text/plain": [
       "   Item_Weight  Item_Visibility  Item_MRP  Outlet_Age  Item_Fat_Content_0  \\\n",
       "0         9.30         0.016047  249.8092          24                   1   \n",
       "1         5.92         0.019278   48.2692          14                   0   \n",
       "2        17.50         0.016760  141.6180          24                   1   \n",
       "3        19.20         0.000000  182.0950          25                   0   \n",
       "4         8.93         0.000000   53.8614          36                   1   \n",
       "\n",
       "   Item_Fat_Content_1  Outlet_Size_0  Outlet_Size_1  Outlet_Size_2  \\\n",
       "0                   0              0              1              0   \n",
       "1                   1              0              1              0   \n",
       "2                   0              0              1              0   \n",
       "3                   1              0              1              0   \n",
       "4                   0              1              0              0   \n",
       "\n",
       "   Outlet_Location_Type_Tier 1  Outlet_Location_Type_Tier 2  \\\n",
       "0                            1                            0   \n",
       "1                            0                            0   \n",
       "2                            1                            0   \n",
       "3                            0                            0   \n",
       "4                            0                            0   \n",
       "\n",
       "   Outlet_Location_Type_Tier 3  Outlet_Type_Grocery Store  \\\n",
       "0                            0                          0   \n",
       "1                            1                          0   \n",
       "2                            0                          0   \n",
       "3                            1                          1   \n",
       "4                            1                          0   \n",
       "\n",
       "   Outlet_Type_Supermarket Type1  Outlet_Type_Supermarket Type2  \\\n",
       "0                              1                              0   \n",
       "1                              0                              1   \n",
       "2                              1                              0   \n",
       "3                              0                              0   \n",
       "4                              1                              0   \n",
       "\n",
       "   Outlet_Type_Supermarket Type3  Item_Type_Category_0  Item_Type_Category_1  \\\n",
       "0                              0                     0                     1   \n",
       "1                              0                     1                     0   \n",
       "2                              0                     0                     1   \n",
       "3                              0                     0                     1   \n",
       "4                              0                     0                     0   \n",
       "\n",
       "   Item_Type_Category_2  \n",
       "0                     0  \n",
       "1                     0  \n",
       "2                     0  \n",
       "3                     0  \n",
       "4                     1  "
      ]
     },
     "execution_count": 53,
     "metadata": {},
     "output_type": "execute_result"
    }
   ],
   "source": [
    "x_train.head()"
   ]
  },
  {
   "cell_type": "code",
   "execution_count": 54,
   "id": "e3d316bd",
   "metadata": {
    "execution": {
     "iopub.execute_input": "2023-03-19T13:30:34.247209Z",
     "iopub.status.busy": "2023-03-19T13:30:34.246439Z",
     "iopub.status.idle": "2023-03-19T13:30:34.254207Z",
     "shell.execute_reply": "2023-03-19T13:30:34.251883Z"
    },
    "papermill": {
     "duration": 0.035262,
     "end_time": "2023-03-19T13:30:34.257279",
     "exception": false,
     "start_time": "2023-03-19T13:30:34.222017",
     "status": "completed"
    },
    "tags": []
   },
   "outputs": [
    {
     "name": "stdout",
     "output_type": "stream",
     "text": [
      "Shape of x_train(8375, 19) \n",
      "Shape of y_train(8375,) \n",
      "Shape of x_test(5568, 20) \n"
     ]
    }
   ],
   "source": [
    "#view shape of x_train and y_train\n",
    "print('Shape of x_train{} '.format(x_train.shape))\n",
    "print('Shape of y_train{} '.format(y_train.shape))\n",
    "print('Shape of x_test{} '.format(x_test.shape))"
   ]
  },
  {
   "cell_type": "markdown",
   "id": "d151026e",
   "metadata": {
    "papermill": {
     "duration": 0.023065,
     "end_time": "2023-03-19T13:30:34.304481",
     "exception": false,
     "start_time": "2023-03-19T13:30:34.281416",
     "status": "completed"
    },
    "tags": []
   },
   "source": [
    "**Model Building**"
   ]
  },
  {
   "cell_type": "code",
   "execution_count": 55,
   "id": "dcae905c",
   "metadata": {
    "execution": {
     "iopub.execute_input": "2023-03-19T13:30:34.355607Z",
     "iopub.status.busy": "2023-03-19T13:30:34.354882Z",
     "iopub.status.idle": "2023-03-19T13:30:34.364419Z",
     "shell.execute_reply": "2023-03-19T13:30:34.363337Z"
    },
    "papermill": {
     "duration": 0.039103,
     "end_time": "2023-03-19T13:30:34.367324",
     "exception": false,
     "start_time": "2023-03-19T13:30:34.328221",
     "status": "completed"
    },
    "tags": []
   },
   "outputs": [],
   "source": [
    "#Creating Train test split\n",
    "xtrain, xtest, ytrain, ytest = model_selection.train_test_split(x_train, y_train, test_size=0.2)"
   ]
  },
  {
   "cell_type": "code",
   "execution_count": 56,
   "id": "76b0c9fc",
   "metadata": {
    "execution": {
     "iopub.execute_input": "2023-03-19T13:30:34.416664Z",
     "iopub.status.busy": "2023-03-19T13:30:34.415803Z",
     "iopub.status.idle": "2023-03-19T13:30:34.421515Z",
     "shell.execute_reply": "2023-03-19T13:30:34.420144Z"
    },
    "papermill": {
     "duration": 0.032588,
     "end_time": "2023-03-19T13:30:34.424192",
     "exception": false,
     "start_time": "2023-03-19T13:30:34.391604",
     "status": "completed"
    },
    "tags": []
   },
   "outputs": [],
   "source": [
    "# xtrain= xtrain.astype(float)"
   ]
  },
  {
   "cell_type": "code",
   "execution_count": 57,
   "id": "91b18f81",
   "metadata": {
    "execution": {
     "iopub.execute_input": "2023-03-19T13:30:34.472723Z",
     "iopub.status.busy": "2023-03-19T13:30:34.472089Z",
     "iopub.status.idle": "2023-03-19T13:31:15.974360Z",
     "shell.execute_reply": "2023-03-19T13:31:15.972484Z"
    },
    "papermill": {
     "duration": 41.553693,
     "end_time": "2023-03-19T13:31:16.000861",
     "exception": false,
     "start_time": "2023-03-19T13:30:34.447168",
     "status": "completed"
    },
    "tags": []
   },
   "outputs": [
    {
     "name": "stdout",
     "output_type": "stream",
     "text": [
      "Optimal value of k: 1\n"
     ]
    }
   ],
   "source": [
    "#using cross validation score to calculate optimal value of K\n",
    "\n",
    "# klist = []\n",
    "# K_scores = []\n",
    "# for k in range(1,30):\n",
    "#    klist.append(k)\n",
    "#    KR = KNeighborsRegressor(n_neighbors = k)\n",
    "#    scores = cross_val_score(KR,xtrain,ytrain,cv=10, scoring = 'neg_mean_squared_error')\n",
    "#    K_scores.append(scores.mean())\n",
    "    \n",
    "    \n",
    "klist = []\n",
    "K_scores = []\n",
    "\n",
    "for k in range(1,30):\n",
    "    klist.append(k)\n",
    "    KR = KNeighborsRegressor(n_neighbors = k)\n",
    "    scores = cross_val_score(KR, xtrain, ytrain, cv=10, scoring='neg_mean_squared_error')\n",
    "    K_scores.append(scores.mean())\n",
    "\n",
    "# find the optimal value of k\n",
    "optimal_k = klist[np.argmin(K_scores)]\n",
    "print(\"Optimal value of k:\", optimal_k)"
   ]
  },
  {
   "cell_type": "code",
   "execution_count": 58,
   "id": "6b4f7a64",
   "metadata": {
    "execution": {
     "iopub.execute_input": "2023-03-19T13:31:16.049774Z",
     "iopub.status.busy": "2023-03-19T13:31:16.049070Z",
     "iopub.status.idle": "2023-03-19T13:31:16.320048Z",
     "shell.execute_reply": "2023-03-19T13:31:16.318621Z"
    },
    "papermill": {
     "duration": 0.298512,
     "end_time": "2023-03-19T13:31:16.323017",
     "exception": false,
     "start_time": "2023-03-19T13:31:16.024505",
     "status": "completed"
    },
    "tags": []
   },
   "outputs": [
    {
     "data": {
      "text/plain": [
       "Text(0, 0.5, 'Mean Error')"
      ]
     },
     "execution_count": 58,
     "metadata": {},
     "output_type": "execute_result"
    },
    {
     "data": {
      "image/png": "[encoded data removed]",
      "text/plain": [
       "<Figure size 1200x600 with 1 Axes>"
      ]
     },
     "metadata": {},
     "output_type": "display_data"
    }
   ],
   "source": [
    "# calculating MSE\n",
    "MSE=[1-x for x in K_scores]\n",
    "\n",
    "#plotting graph to visualize error rate and k values\n",
    "plt.figure(figsize=(12, 6))\n",
    "plt.plot(range(1,30), MSE, color='blue', linestyle=\"solid\", marker='o',markersize=8)\n",
    "plt.title('Error Rate K Value')\n",
    "plt.xlabel('K Value')\n",
    "plt.ylabel('Mean Error')"
   ]
  },
  {
   "cell_type": "code",
   "execution_count": 59,
   "id": "9c3a9ae1",
   "metadata": {
    "execution": {
     "iopub.execute_input": "2023-03-19T13:31:16.374122Z",
     "iopub.status.busy": "2023-03-19T13:31:16.373658Z",
     "iopub.status.idle": "2023-03-19T13:31:16.380644Z",
     "shell.execute_reply": "2023-03-19T13:31:16.379343Z"
    },
    "papermill": {
     "duration": 0.035139,
     "end_time": "2023-03-19T13:31:16.383598",
     "exception": false,
     "start_time": "2023-03-19T13:31:16.348459",
     "status": "completed"
    },
    "tags": []
   },
   "outputs": [
    {
     "name": "stdout",
     "output_type": "stream",
     "text": [
      "The optimal value of K (neighbors) is  9\n"
     ]
    }
   ],
   "source": [
    "#value of k for which mse is minimum is optimal\n",
    "Optimal_K = klist[MSE.index(min(MSE))]\n",
    "\n",
    "print(\"The optimal value of K (neighbors) is \",Optimal_K)"
   ]
  },
  {
   "cell_type": "code",
   "execution_count": 60,
   "id": "27ad918e",
   "metadata": {
    "execution": {
     "iopub.execute_input": "2023-03-19T13:31:16.435851Z",
     "iopub.status.busy": "2023-03-19T13:31:16.435302Z",
     "iopub.status.idle": "2023-03-19T13:31:16.452752Z",
     "shell.execute_reply": "2023-03-19T13:31:16.451039Z"
    },
    "papermill": {
     "duration": 0.046815,
     "end_time": "2023-03-19T13:31:16.455749",
     "exception": false,
     "start_time": "2023-03-19T13:31:16.408934",
     "status": "completed"
    },
    "tags": []
   },
   "outputs": [
    {
     "data": {
      "text/plain": [
       "KNeighborsRegressor(n_neighbors=9)"
      ]
     },
     "execution_count": 60,
     "metadata": {},
     "output_type": "execute_result"
    }
   ],
   "source": [
    "KR = KNeighborsRegressor(n_neighbors = Optimal_K)\n",
    "\n",
    "KR.fit(xtrain,ytrain)"
   ]
  },
  {
   "cell_type": "code",
   "execution_count": 61,
   "id": "b0841aee",
   "metadata": {
    "execution": {
     "iopub.execute_input": "2023-03-19T13:31:16.506192Z",
     "iopub.status.busy": "2023-03-19T13:31:16.505697Z",
     "iopub.status.idle": "2023-03-19T13:31:16.816440Z",
     "shell.execute_reply": "2023-03-19T13:31:16.815083Z"
    },
    "papermill": {
     "duration": 0.339533,
     "end_time": "2023-03-19T13:31:16.819350",
     "exception": false,
     "start_time": "2023-03-19T13:31:16.479817",
     "status": "completed"
    },
    "tags": []
   },
   "outputs": [
    {
     "data": {
      "text/plain": [
       "array([ 645.826     , 1703.70822222, 4790.72691111, ..., 1835.53662222,\n",
       "       2675.62826667, 1327.23531111])"
      ]
     },
     "execution_count": 61,
     "metadata": {},
     "output_type": "execute_result"
    }
   ],
   "source": [
    "#Predict sales for test dataset\n",
    "predictions= KR.predict(xtest)\n",
    "predictions"
   ]
  },
  {
   "cell_type": "code",
   "execution_count": 62,
   "id": "40347092",
   "metadata": {
    "execution": {
     "iopub.execute_input": "2023-03-19T13:31:16.869407Z",
     "iopub.status.busy": "2023-03-19T13:31:16.868999Z",
     "iopub.status.idle": "2023-03-19T13:31:16.875874Z",
     "shell.execute_reply": "2023-03-19T13:31:16.874419Z"
    },
    "papermill": {
     "duration": 0.03627,
     "end_time": "2023-03-19T13:31:16.879385",
     "exception": false,
     "start_time": "2023-03-19T13:31:16.843115",
     "status": "completed"
    },
    "tags": []
   },
   "outputs": [
    {
     "name": "stdout",
     "output_type": "stream",
     "text": [
      "Mean Squared Error of the Model: 1581099.0615280413\n"
     ]
    }
   ],
   "source": [
    "mse = mean_squared_error(ytest, predictions)\n",
    "print(f'Mean Squared Error of the Model: {mse}')\n",
    "\n",
    "# print(\"\\nClassification Report:\\n\\n\" ,classification_report(ytest,predictions))"
   ]
  },
  {
   "cell_type": "code",
   "execution_count": 63,
   "id": "35741a1c",
   "metadata": {
    "execution": {
     "iopub.execute_input": "2023-03-19T13:31:16.930102Z",
     "iopub.status.busy": "2023-03-19T13:31:16.929390Z",
     "iopub.status.idle": "2023-03-19T13:31:16.936444Z",
     "shell.execute_reply": "2023-03-19T13:31:16.934978Z"
    },
    "papermill": {
     "duration": 0.035426,
     "end_time": "2023-03-19T13:31:16.939360",
     "exception": false,
     "start_time": "2023-03-19T13:31:16.903934",
     "status": "completed"
    },
    "tags": []
   },
   "outputs": [
    {
     "name": "stdout",
     "output_type": "stream",
     "text": [
      "Mean Squared Error of the Model: 0.45170680472022895\n"
     ]
    }
   ],
   "source": [
    "r2s = r2_score(ytest, predictions)\n",
    "print(f'Mean Squared Error of the Model: {r2s}')"
   ]
  },
  {
   "cell_type": "code",
   "execution_count": 64,
   "id": "c7ad72ca",
   "metadata": {
    "execution": {
     "iopub.execute_input": "2023-03-19T13:31:16.990194Z",
     "iopub.status.busy": "2023-03-19T13:31:16.989775Z",
     "iopub.status.idle": "2023-03-19T13:31:16.996341Z",
     "shell.execute_reply": "2023-03-19T13:31:16.994876Z"
    },
    "papermill": {
     "duration": 0.035144,
     "end_time": "2023-03-19T13:31:16.999201",
     "exception": false,
     "start_time": "2023-03-19T13:31:16.964057",
     "status": "completed"
    },
    "tags": []
   },
   "outputs": [
    {
     "name": "stdout",
     "output_type": "stream",
     "text": [
      "Mean Squared Error of the Model: 924.1303558341625\n"
     ]
    }
   ],
   "source": [
    "mae = mean_absolute_error(ytest, predictions)\n",
    "print(f'Mean Squared Error of the Model: {mae}')"
   ]
  },
  {
   "cell_type": "code",
   "execution_count": 65,
   "id": "93b9c676",
   "metadata": {
    "execution": {
     "iopub.execute_input": "2023-03-19T13:31:17.049375Z",
     "iopub.status.busy": "2023-03-19T13:31:17.048977Z",
     "iopub.status.idle": "2023-03-19T13:31:17.053747Z",
     "shell.execute_reply": "2023-03-19T13:31:17.052397Z"
    },
    "papermill": {
     "duration": 0.033179,
     "end_time": "2023-03-19T13:31:17.056305",
     "exception": false,
     "start_time": "2023-03-19T13:31:17.023126",
     "status": "completed"
    },
    "tags": []
   },
   "outputs": [],
   "source": [
    "#There is need to improve this model we can also try using other models for prediction"
   ]
  }
 ],
 "metadata": {
  "kernelspec": {
   "display_name": "Python 3",
   "language": "python",
   "name": "python3"
  },
  "language_info": {
   "codemirror_mode": {
    "name": "ipython",
    "version": 3
   },
   "file_extension": ".py",
   "mimetype": "text/x-python",
   "name": "python",
   "nbconvert_exporter": "python",
   "pygments_lexer": "ipython3",
   "version": "3.7.12"
  },
  "papermill": {
   "default_parameters": {},
   "duration": 61.097564,
   "end_time": "2023-03-19T13:31:17.903952",
   "environment_variables": {},
   "exception": null,
   "input_path": "__notebook__.ipynb",
   "output_path": "__notebook__.ipynb",
   "parameters": {},
   "start_time": "2023-03-19T13:30:16.806388",
   "version": "2.4.0"
  }
 },
 "nbformat": 4,
 "nbformat_minor": 5
}
