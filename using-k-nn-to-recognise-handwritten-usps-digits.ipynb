{
 "cells": [
  {
   "cell_type": "code",
   "execution_count": 1,
   "id": "94850736",
   "metadata": {
    "_cell_guid": "b1076dfc-b9ad-4769-8c92-a6c4dae69d19",
    "_uuid": "8f2839f25d086af736a60e9eeb907d3b93b6e0e5",
    "execution": {
     "iopub.execute_input": "2023-03-28T15:15:05.980713Z",
     "iopub.status.busy": "2023-03-28T15:15:05.980068Z",
     "iopub.status.idle": "2023-03-28T15:15:06.003452Z",
     "shell.execute_reply": "2023-03-28T15:15:06.002050Z"
    },
    "papermill": {
     "duration": 0.03664,
     "end_time": "2023-03-28T15:15:06.006723",
     "exception": false,
     "start_time": "2023-03-28T15:15:05.970083",
     "status": "completed"
    },
    "tags": []
   },
   "outputs": [
    {
     "name": "stdout",
     "output_type": "stream",
     "text": [
      "/kaggle/input/usps-dataset/usps.h5\n"
     ]
    }
   ],
   "source": [
    "# This Python 3 environment comes with many helpful analytics libraries installed\n",
    "# It is defined by the kaggle/python Docker image: https://github.com/kaggle/docker-python\n",
    "# For example, here's several helpful packages to load\n",
    "\n",
    "import numpy as np # linear algebra\n",
    "import pandas as pd # data processing, CSV file I/O (e.g. pd.read_csv)\n",
    "\n",
    "# Input data files are available in the read-only \"../input/\" directory\n",
    "# For example, running this (by clicking run or pressing Shift+Enter) will list all files under the input directory\n",
    "\n",
    "import os\n",
    "for dirname, _, filenames in os.walk('/kaggle/input'):\n",
    "    for filename in filenames:\n",
    "        print(os.path.join(dirname, filename))\n",
    "\n",
    "# You can write up to 20GB to the current directory (/kaggle/working/) that gets preserved as output when you create a version using \"Save & Run All\" \n",
    "# You can also write temporary files to /kaggle/temp/, but they won't be saved outside of the current session"
   ]
  },
  {
   "cell_type": "code",
   "execution_count": 2,
   "id": "f7deb1d7",
   "metadata": {
    "execution": {
     "iopub.execute_input": "2023-03-28T15:15:06.023082Z",
     "iopub.status.busy": "2023-03-28T15:15:06.021826Z",
     "iopub.status.idle": "2023-03-28T15:15:07.989839Z",
     "shell.execute_reply": "2023-03-28T15:15:07.988385Z"
    },
    "papermill": {
     "duration": 1.980005,
     "end_time": "2023-03-28T15:15:07.993462",
     "exception": false,
     "start_time": "2023-03-28T15:15:06.013457",
     "status": "completed"
    },
    "tags": []
   },
   "outputs": [],
   "source": [
    "# importing libraries\n",
    "\n",
    "import pandas as pd\n",
    "import numpy as np\n",
    "from sklearn.neighbors import KNeighborsClassifier\n",
    "from sklearn.model_selection import cross_val_score\n",
    "import seaborn as sns\n",
    "import matplotlib.pyplot as plt\n",
    "from sklearn.metrics import accuracy_score,classification_report,confusion_matrix,roc_curve,auc\n",
    "import h5py"
   ]
  },
  {
   "cell_type": "markdown",
   "id": "38c7f52c",
   "metadata": {
    "papermill": {
     "duration": 0.00596,
     "end_time": "2023-03-28T15:15:08.005908",
     "exception": false,
     "start_time": "2023-03-28T15:15:07.999948",
     "status": "completed"
    },
    "tags": []
   },
   "source": [
    "**Loading Data**\n",
    "\n",
    "Reading USPS data stored in HDF5 file, then loading the training and test data into the variables x_train and x_test, respectively, and their corresponding labels into y_train and y_test"
   ]
  },
  {
   "cell_type": "code",
   "execution_count": 3,
   "id": "614148c8",
   "metadata": {
    "execution": {
     "iopub.execute_input": "2023-03-28T15:15:08.021315Z",
     "iopub.status.busy": "2023-03-28T15:15:08.020462Z",
     "iopub.status.idle": "2023-03-28T15:15:08.147116Z",
     "shell.execute_reply": "2023-03-28T15:15:08.145363Z"
    },
    "papermill": {
     "duration": 0.137724,
     "end_time": "2023-03-28T15:15:08.149942",
     "exception": false,
     "start_time": "2023-03-28T15:15:08.012218",
     "status": "completed"
    },
    "tags": []
   },
   "outputs": [
    {
     "name": "stdout",
     "output_type": "stream",
     "text": [
      "['test', 'train']\n"
     ]
    }
   ],
   "source": [
    "# reading the data from the HDF5 file and loading it to x_train, y_train, x_test, y_test variables\n",
    "with h5py.File('/kaggle/input/usps-dataset/usps.h5', 'r') as f:\n",
    "    print(list(f.keys()))\n",
    "    x_train = f['/train/data'][:]\n",
    "    y_train = f['/train/target'][:]\n",
    "    x_test = f['/test/data'][:]\n",
    "    y_test = f['/test/target'][:]"
   ]
  },
  {
   "cell_type": "code",
   "execution_count": 4,
   "id": "8c4d81f2",
   "metadata": {
    "execution": {
     "iopub.execute_input": "2023-03-28T15:15:08.165852Z",
     "iopub.status.busy": "2023-03-28T15:15:08.164391Z",
     "iopub.status.idle": "2023-03-28T15:15:08.173127Z",
     "shell.execute_reply": "2023-03-28T15:15:08.170700Z"
    },
    "papermill": {
     "duration": 0.019367,
     "end_time": "2023-03-28T15:15:08.175647",
     "exception": false,
     "start_time": "2023-03-28T15:15:08.156280",
     "status": "completed"
    },
    "tags": []
   },
   "outputs": [
    {
     "name": "stdout",
     "output_type": "stream",
     "text": [
      "No. of records in Train Dataset:  7291\n",
      "No. of records in Test Dataset:  2007\n"
     ]
    }
   ],
   "source": [
    "# no. of records in training and testing data\n",
    "print('No. of records in Train Dataset: ',len(x_train))\n",
    "print('No. of records in Test Dataset: ',len(x_test))"
   ]
  },
  {
   "cell_type": "code",
   "execution_count": 5,
   "id": "54140231",
   "metadata": {
    "execution": {
     "iopub.execute_input": "2023-03-28T15:15:08.190612Z",
     "iopub.status.busy": "2023-03-28T15:15:08.190129Z",
     "iopub.status.idle": "2023-03-28T15:15:08.197076Z",
     "shell.execute_reply": "2023-03-28T15:15:08.195788Z"
    },
    "papermill": {
     "duration": 0.018132,
     "end_time": "2023-03-28T15:15:08.200102",
     "exception": false,
     "start_time": "2023-03-28T15:15:08.181970",
     "status": "completed"
    },
    "tags": []
   },
   "outputs": [
    {
     "name": "stdout",
     "output_type": "stream",
     "text": [
      "Labels of training data:  {0, 1, 2, 3, 4, 5, 6, 7, 8, 9}\n"
     ]
    }
   ],
   "source": [
    "#unique labels present in training data\n",
    "print('Labels of training data: ', set(y_train))"
   ]
  },
  {
   "cell_type": "code",
   "execution_count": 6,
   "id": "2489f88c",
   "metadata": {
    "execution": {
     "iopub.execute_input": "2023-03-28T15:15:08.215489Z",
     "iopub.status.busy": "2023-03-28T15:15:08.215026Z",
     "iopub.status.idle": "2023-03-28T15:15:08.228741Z",
     "shell.execute_reply": "2023-03-28T15:15:08.227462Z"
    },
    "papermill": {
     "duration": 0.025025,
     "end_time": "2023-03-28T15:15:08.231776",
     "exception": false,
     "start_time": "2023-03-28T15:15:08.206751",
     "status": "completed"
    },
    "tags": []
   },
   "outputs": [],
   "source": [
    "# reshaping training and testing data to 1D array and then normalizing the pixel values between 0 and 1\n",
    "x_train = x_train.reshape(x_train.shape[0], -1) / 255.0\n",
    "x_test = x_test.reshape(x_test.shape[0], -1) / 255.0"
   ]
  },
  {
   "cell_type": "markdown",
   "id": "d3bfa960",
   "metadata": {
    "papermill": {
     "duration": 0.006619,
     "end_time": "2023-03-28T15:15:08.244977",
     "exception": false,
     "start_time": "2023-03-28T15:15:08.238358",
     "status": "completed"
    },
    "tags": []
   },
   "source": [
    "**Calculate Optimal Value of K for Euclidean distance metric**\n",
    "\n",
    "In KNN, it is generally recommended to start with a value of k=3 or greater. This is because if k is too small, the model may be overly sensitive to noise and outliers in the data, leading to overfitting."
   ]
  },
  {
   "cell_type": "code",
   "execution_count": 7,
   "id": "8b8128d3",
   "metadata": {
    "execution": {
     "iopub.execute_input": "2023-03-28T15:15:08.260384Z",
     "iopub.status.busy": "2023-03-28T15:15:08.259912Z",
     "iopub.status.idle": "2023-03-28T15:15:59.219618Z",
     "shell.execute_reply": "2023-03-28T15:15:59.217877Z"
    },
    "papermill": {
     "duration": 50.971317,
     "end_time": "2023-03-28T15:15:59.222831",
     "exception": false,
     "start_time": "2023-03-28T15:15:08.251514",
     "status": "completed"
    },
    "tags": []
   },
   "outputs": [],
   "source": [
    "# using cross validation score to calculate optimal value of K\n",
    "\n",
    "klist = []\n",
    "K_scores = []\n",
    "for k in range(3,21):\n",
    "   klist.append(k)\n",
    "   knn = KNeighborsClassifier(n_neighbors = k, metric= 'euclidean')\n",
    "   scores = cross_val_score(knn,x_train,y_train,cv=10, scoring = 'accuracy')\n",
    "   K_scores.append(scores.mean())"
   ]
  },
  {
   "cell_type": "code",
   "execution_count": 8,
   "id": "826b3620",
   "metadata": {
    "execution": {
     "iopub.execute_input": "2023-03-28T15:15:59.238140Z",
     "iopub.status.busy": "2023-03-28T15:15:59.237672Z",
     "iopub.status.idle": "2023-03-28T15:15:59.244180Z",
     "shell.execute_reply": "2023-03-28T15:15:59.242754Z"
    },
    "papermill": {
     "duration": 0.018167,
     "end_time": "2023-03-28T15:15:59.247706",
     "exception": false,
     "start_time": "2023-03-28T15:15:59.229539",
     "status": "completed"
    },
    "tags": []
   },
   "outputs": [
    {
     "name": "stdout",
     "output_type": "stream",
     "text": [
      "[0.9666709885938705, 0.9639278801886615, 0.9640659939493019, 0.9609109870905913, 0.9613219459947009, 0.9603611627863277, 0.959401507037225, 0.9585784617697353, 0.9574810680797491, 0.9546009733731703, 0.9543262491309168, 0.9532290433508089, 0.9504859349456002, 0.9493885412556139, 0.9473313039066464, 0.9462346618561739, 0.9448631076535694, 0.9440402502959582]\n"
     ]
    }
   ],
   "source": [
    "print(K_scores)"
   ]
  },
  {
   "cell_type": "code",
   "execution_count": 9,
   "id": "e15146d5",
   "metadata": {
    "execution": {
     "iopub.execute_input": "2023-03-28T15:15:59.265075Z",
     "iopub.status.busy": "2023-03-28T15:15:59.263860Z",
     "iopub.status.idle": "2023-03-28T15:15:59.269169Z",
     "shell.execute_reply": "2023-03-28T15:15:59.268206Z"
    },
    "papermill": {
     "duration": 0.015808,
     "end_time": "2023-03-28T15:15:59.271496",
     "exception": false,
     "start_time": "2023-03-28T15:15:59.255688",
     "status": "completed"
    },
    "tags": []
   },
   "outputs": [],
   "source": [
    "#calculating Mean Squared Error (MSE)\n",
    "MSE=[1-x for x in K_scores]"
   ]
  },
  {
   "cell_type": "code",
   "execution_count": 10,
   "id": "8f80b1b0",
   "metadata": {
    "execution": {
     "iopub.execute_input": "2023-03-28T15:15:59.287360Z",
     "iopub.status.busy": "2023-03-28T15:15:59.286645Z",
     "iopub.status.idle": "2023-03-28T15:15:59.599810Z",
     "shell.execute_reply": "2023-03-28T15:15:59.598159Z"
    },
    "papermill": {
     "duration": 0.324622,
     "end_time": "2023-03-28T15:15:59.602902",
     "exception": false,
     "start_time": "2023-03-28T15:15:59.278280",
     "status": "completed"
    },
    "tags": []
   },
   "outputs": [
    {
     "data": {
      "text/plain": [
       "Text(0, 0.5, 'Mean Error')"
      ]
     },
     "execution_count": 10,
     "metadata": {},
     "output_type": "execute_result"
    },
    {
     "data": {
      "image/png": "[encoded data removed]",
      "text/plain": [
       "<Figure size 1200x600 with 1 Axes>"
      ]
     },
     "metadata": {},
     "output_type": "display_data"
    }
   ],
   "source": [
    "#plotting graph to visualize error rate and k values\n",
    "plt.figure(figsize=(12, 6))\n",
    "plt.plot(range(3,21), MSE, linestyle=\"solid\", marker='o',markersize=8)\n",
    "plt.title('Error Rate K Value')\n",
    "plt.xlabel('K Value')\n",
    "plt.ylabel('Mean Error')"
   ]
  },
  {
   "cell_type": "code",
   "execution_count": 11,
   "id": "bf4e6589",
   "metadata": {
    "execution": {
     "iopub.execute_input": "2023-03-28T15:15:59.620971Z",
     "iopub.status.busy": "2023-03-28T15:15:59.619747Z",
     "iopub.status.idle": "2023-03-28T15:15:59.627473Z",
     "shell.execute_reply": "2023-03-28T15:15:59.626236Z"
    },
    "papermill": {
     "duration": 0.019332,
     "end_time": "2023-03-28T15:15:59.630099",
     "exception": false,
     "start_time": "2023-03-28T15:15:59.610767",
     "status": "completed"
    },
    "tags": []
   },
   "outputs": [
    {
     "name": "stdout",
     "output_type": "stream",
     "text": [
      "The optimal value of K (neighbors) is  3\n"
     ]
    }
   ],
   "source": [
    "#value of k for which mse is minimum is optimal\n",
    "Optimal_K = klist[MSE.index(min(MSE))]\n",
    "\n",
    "print(\"The optimal value of K (neighbors) is \",Optimal_K)"
   ]
  },
  {
   "cell_type": "markdown",
   "id": "e259f0bc",
   "metadata": {
    "papermill": {
     "duration": 0.006862,
     "end_time": "2023-03-28T15:15:59.644151",
     "exception": false,
     "start_time": "2023-03-28T15:15:59.637289",
     "status": "completed"
    },
    "tags": []
   },
   "source": [
    "**Training Model on Optimal Value of K**"
   ]
  },
  {
   "cell_type": "code",
   "execution_count": 12,
   "id": "20d5954f",
   "metadata": {
    "execution": {
     "iopub.execute_input": "2023-03-28T15:15:59.660535Z",
     "iopub.status.busy": "2023-03-28T15:15:59.660078Z",
     "iopub.status.idle": "2023-03-28T15:15:59.677490Z",
     "shell.execute_reply": "2023-03-28T15:15:59.676149Z"
    },
    "papermill": {
     "duration": 0.029066,
     "end_time": "2023-03-28T15:15:59.680296",
     "exception": false,
     "start_time": "2023-03-28T15:15:59.651230",
     "status": "completed"
    },
    "tags": []
   },
   "outputs": [
    {
     "data": {
      "text/plain": [
       "KNeighborsClassifier(metric='euclidean', n_neighbors=3)"
      ]
     },
     "execution_count": 12,
     "metadata": {},
     "output_type": "execute_result"
    }
   ],
   "source": [
    "knn = KNeighborsClassifier(metric=\"euclidean\", n_neighbors=3)\n",
    "knn.fit(x_train, y_train)\n"
   ]
  },
  {
   "cell_type": "markdown",
   "id": "d4de7d3c",
   "metadata": {
    "papermill": {
     "duration": 0.007053,
     "end_time": "2023-03-28T15:15:59.694743",
     "exception": false,
     "start_time": "2023-03-28T15:15:59.687690",
     "status": "completed"
    },
    "tags": []
   },
   "source": [
    "**Model Evaluation**"
   ]
  },
  {
   "cell_type": "code",
   "execution_count": 13,
   "id": "8d24c41d",
   "metadata": {
    "execution": {
     "iopub.execute_input": "2023-03-28T15:15:59.711759Z",
     "iopub.status.busy": "2023-03-28T15:15:59.711218Z",
     "iopub.status.idle": "2023-03-28T15:16:00.358009Z",
     "shell.execute_reply": "2023-03-28T15:16:00.356858Z"
    },
    "papermill": {
     "duration": 0.659219,
     "end_time": "2023-03-28T15:16:00.361209",
     "exception": false,
     "start_time": "2023-03-28T15:15:59.701990",
     "status": "completed"
    },
    "tags": []
   },
   "outputs": [],
   "source": [
    "#predicting test data\n",
    "y_predict= knn.predict(x_test)\n"
   ]
  },
  {
   "cell_type": "code",
   "execution_count": 14,
   "id": "728ddb4e",
   "metadata": {
    "execution": {
     "iopub.execute_input": "2023-03-28T15:16:00.378367Z",
     "iopub.status.busy": "2023-03-28T15:16:00.377933Z",
     "iopub.status.idle": "2023-03-28T15:16:00.385320Z",
     "shell.execute_reply": "2023-03-28T15:16:00.383756Z"
    },
    "papermill": {
     "duration": 0.01941,
     "end_time": "2023-03-28T15:16:00.388262",
     "exception": false,
     "start_time": "2023-03-28T15:16:00.368852",
     "status": "completed"
    },
    "tags": []
   },
   "outputs": [
    {
     "name": "stdout",
     "output_type": "stream",
     "text": [
      "Accuracy Score of the Model: 0.9446935724962631\n"
     ]
    }
   ],
   "source": [
    "#calculating accuracy of trained model\n",
    "\n",
    "accuracy=accuracy_score(y_test,y_predict)\n",
    "print(f'Accuracy Score of the Model: {accuracy}')"
   ]
  },
  {
   "cell_type": "markdown",
   "id": "fe4c240b",
   "metadata": {
    "papermill": {
     "duration": 0.007039,
     "end_time": "2023-03-28T15:16:00.403649",
     "exception": false,
     "start_time": "2023-03-28T15:16:00.396610",
     "status": "completed"
    },
    "tags": []
   },
   "source": [
    "**Confusion Matrix**"
   ]
  },
  {
   "cell_type": "code",
   "execution_count": 15,
   "id": "0f114707",
   "metadata": {
    "execution": {
     "iopub.execute_input": "2023-03-28T15:16:00.421014Z",
     "iopub.status.busy": "2023-03-28T15:16:00.420157Z",
     "iopub.status.idle": "2023-03-28T15:16:01.097760Z",
     "shell.execute_reply": "2023-03-28T15:16:01.096678Z"
    },
    "papermill": {
     "duration": 0.68964,
     "end_time": "2023-03-28T15:16:01.100557",
     "exception": false,
     "start_time": "2023-03-28T15:16:00.410917",
     "status": "completed"
    },
    "tags": []
   },
   "outputs": [
    {
     "data": {
      "image/png": "[encoded data removed]",
      "text/plain": [
       "<Figure size 1000x800 with 2 Axes>"
      ]
     },
     "metadata": {},
     "output_type": "display_data"
    }
   ],
   "source": [
    "# confusion matrix\n",
    "cm = confusion_matrix(y_test, y_predict)\n",
    "\n",
    "fig, ax = plt.subplots(figsize=(10, 8))\n",
    "ax = sns.heatmap(cm, annot=True, cmap='Blues', fmt='g', xticklabels=np.arange(0, 10), yticklabels=np.arange(0, 10))\n",
    "ax.set_xlabel('Predicted labels')\n",
    "ax.set_ylabel('True labels')\n",
    "ax.set_title('Confusion Matrix')\n",
    "plt.show()"
   ]
  },
  {
   "cell_type": "markdown",
   "id": "f6d98cdc",
   "metadata": {
    "papermill": {
     "duration": 0.00814,
     "end_time": "2023-03-28T15:16:01.117555",
     "exception": false,
     "start_time": "2023-03-28T15:16:01.109415",
     "status": "completed"
    },
    "tags": []
   },
   "source": [
    "**Classification Report**"
   ]
  },
  {
   "cell_type": "code",
   "execution_count": 16,
   "id": "da0533f3",
   "metadata": {
    "execution": {
     "iopub.execute_input": "2023-03-28T15:16:01.137369Z",
     "iopub.status.busy": "2023-03-28T15:16:01.136851Z",
     "iopub.status.idle": "2023-03-28T15:16:01.723073Z",
     "shell.execute_reply": "2023-03-28T15:16:01.721763Z"
    },
    "papermill": {
     "duration": 0.599394,
     "end_time": "2023-03-28T15:16:01.726027",
     "exception": false,
     "start_time": "2023-03-28T15:16:01.126633",
     "status": "completed"
    },
    "tags": []
   },
   "outputs": [
    {
     "data": {
      "image/png": "[encoded data removed]",
      "text/plain": [
       "<Figure size 1500x800 with 2 Axes>"
      ]
     },
     "metadata": {},
     "output_type": "display_data"
    }
   ],
   "source": [
    "# classification Report\n",
    "report = classification_report(y_test, y_predict, output_dict=True)\n",
    "df = pd.DataFrame(report).transpose()\n",
    "\n",
    "fig, ax = plt.subplots(figsize=(15, 8))\n",
    "ax = sns.heatmap(df.iloc[:-1, :].T, annot=True, cmap='Blues', fmt='.2f')\n",
    "ax.set_xlabel('Metrics')\n",
    "ax.set_ylabel('Labels')\n",
    "ax.set_title('Classification Report')\n",
    "plt.show()"
   ]
  },
  {
   "cell_type": "markdown",
   "id": "b36c8b83",
   "metadata": {
    "papermill": {
     "duration": 0.009524,
     "end_time": "2023-03-28T15:16:01.745007",
     "exception": false,
     "start_time": "2023-03-28T15:16:01.735483",
     "status": "completed"
    },
    "tags": []
   },
   "source": [
    "**Saving Results**"
   ]
  },
  {
   "cell_type": "code",
   "execution_count": 17,
   "id": "9abb4ec7",
   "metadata": {
    "execution": {
     "iopub.execute_input": "2023-03-28T15:16:01.765394Z",
     "iopub.status.busy": "2023-03-28T15:16:01.764935Z",
     "iopub.status.idle": "2023-03-28T15:16:01.779843Z",
     "shell.execute_reply": "2023-03-28T15:16:01.778636Z"
    },
    "papermill": {
     "duration": 0.028369,
     "end_time": "2023-03-28T15:16:01.782601",
     "exception": false,
     "start_time": "2023-03-28T15:16:01.754232",
     "status": "completed"
    },
    "tags": []
   },
   "outputs": [],
   "source": [
    "# create DataFrame to store y_test and predictions\n",
    "df = pd.DataFrame({'Actual Labels': y_test, 'Predictions': y_predict})\n",
    "\n",
    "# save DataFrame as CSV file\n",
    "df.to_csv('predictions.csv', index=False)"
   ]
  },
  {
   "cell_type": "code",
   "execution_count": 18,
   "id": "66986b0c",
   "metadata": {
    "execution": {
     "iopub.execute_input": "2023-03-28T15:16:01.803912Z",
     "iopub.status.busy": "2023-03-28T15:16:01.802943Z",
     "iopub.status.idle": "2023-03-28T15:16:01.827130Z",
     "shell.execute_reply": "2023-03-28T15:16:01.825829Z"
    },
    "papermill": {
     "duration": 0.038149,
     "end_time": "2023-03-28T15:16:01.830095",
     "exception": false,
     "start_time": "2023-03-28T15:16:01.791946",
     "status": "completed"
    },
    "tags": []
   },
   "outputs": [
    {
     "data": {
      "text/html": [
       "<div>\n",
       "<style scoped>\n",
       "    .dataframe tbody tr th:only-of-type {\n",
       "        vertical-align: middle;\n",
       "    }\n",
       "\n",
       "    .dataframe tbody tr th {\n",
       "        vertical-align: top;\n",
       "    }\n",
       "\n",
       "    .dataframe thead th {\n",
       "        text-align: right;\n",
       "    }\n",
       "</style>\n",
       "<table border=\"1\" class=\"dataframe\">\n",
       "  <thead>\n",
       "    <tr style=\"text-align: right;\">\n",
       "      <th></th>\n",
       "      <th>Actual Labels</th>\n",
       "      <th>Predictions</th>\n",
       "    </tr>\n",
       "  </thead>\n",
       "  <tbody>\n",
       "    <tr>\n",
       "      <th>0</th>\n",
       "      <td>9</td>\n",
       "      <td>9</td>\n",
       "    </tr>\n",
       "    <tr>\n",
       "      <th>1</th>\n",
       "      <td>6</td>\n",
       "      <td>6</td>\n",
       "    </tr>\n",
       "    <tr>\n",
       "      <th>2</th>\n",
       "      <td>3</td>\n",
       "      <td>3</td>\n",
       "    </tr>\n",
       "    <tr>\n",
       "      <th>3</th>\n",
       "      <td>6</td>\n",
       "      <td>6</td>\n",
       "    </tr>\n",
       "    <tr>\n",
       "      <th>4</th>\n",
       "      <td>6</td>\n",
       "      <td>6</td>\n",
       "    </tr>\n",
       "    <tr>\n",
       "      <th>5</th>\n",
       "      <td>0</td>\n",
       "      <td>0</td>\n",
       "    </tr>\n",
       "    <tr>\n",
       "      <th>6</th>\n",
       "      <td>0</td>\n",
       "      <td>0</td>\n",
       "    </tr>\n",
       "    <tr>\n",
       "      <th>7</th>\n",
       "      <td>0</td>\n",
       "      <td>0</td>\n",
       "    </tr>\n",
       "    <tr>\n",
       "      <th>8</th>\n",
       "      <td>6</td>\n",
       "      <td>6</td>\n",
       "    </tr>\n",
       "    <tr>\n",
       "      <th>9</th>\n",
       "      <td>9</td>\n",
       "      <td>9</td>\n",
       "    </tr>\n",
       "    <tr>\n",
       "      <th>10</th>\n",
       "      <td>6</td>\n",
       "      <td>6</td>\n",
       "    </tr>\n",
       "    <tr>\n",
       "      <th>11</th>\n",
       "      <td>2</td>\n",
       "      <td>2</td>\n",
       "    </tr>\n",
       "    <tr>\n",
       "      <th>12</th>\n",
       "      <td>2</td>\n",
       "      <td>2</td>\n",
       "    </tr>\n",
       "    <tr>\n",
       "      <th>13</th>\n",
       "      <td>4</td>\n",
       "      <td>4</td>\n",
       "    </tr>\n",
       "    <tr>\n",
       "      <th>14</th>\n",
       "      <td>0</td>\n",
       "      <td>0</td>\n",
       "    </tr>\n",
       "  </tbody>\n",
       "</table>\n",
       "</div>"
      ],
      "text/plain": [
       "    Actual Labels  Predictions\n",
       "0               9            9\n",
       "1               6            6\n",
       "2               3            3\n",
       "3               6            6\n",
       "4               6            6\n",
       "5               0            0\n",
       "6               0            0\n",
       "7               0            0\n",
       "8               6            6\n",
       "9               9            9\n",
       "10              6            6\n",
       "11              2            2\n",
       "12              2            2\n",
       "13              4            4\n",
       "14              0            0"
      ]
     },
     "execution_count": 18,
     "metadata": {},
     "output_type": "execute_result"
    }
   ],
   "source": [
    "#Displaying top 15 records of dataframe\n",
    "df.head(15)"
   ]
  }
 ],
 "metadata": {
  "kernelspec": {
   "display_name": "Python 3",
   "language": "python",
   "name": "python3"
  },
  "language_info": {
   "codemirror_mode": {
    "name": "ipython",
    "version": 3
   },
   "file_extension": ".py",
   "mimetype": "text/x-python",
   "name": "python",
   "nbconvert_exporter": "python",
   "pygments_lexer": "ipython3",
   "version": "3.7.12"
  },
  "papermill": {
   "default_parameters": {},
   "duration": 68.518575,
   "end_time": "2023-03-28T15:16:02.965906",
   "environment_variables": {},
   "exception": null,
   "input_path": "__notebook__.ipynb",
   "output_path": "__notebook__.ipynb",
   "parameters": {},
   "start_time": "2023-03-28T15:14:54.447331",
   "version": "2.4.0"
  }
 },
 "nbformat": 4,
 "nbformat_minor": 5
}
